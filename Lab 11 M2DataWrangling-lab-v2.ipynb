{
 "cells": [
  {
   "cell_type": "markdown",
   "metadata": {},
   "source": [
    "<p style=\"text-align:center\">\n",
    "    <a href=\"https://skills.network\" target=\"_blank\">\n",
    "    <img src=\"https://cf-courses-data.s3.us.cloud-object-storage.appdomain.cloud/assets/logos/SN_web_lightmode.png\" width=\"200\" alt=\"Skills Network Logo\"  />\n",
    "    </a>\n",
    "</p>\n"
   ]
  },
  {
   "cell_type": "markdown",
   "metadata": {},
   "source": [
    "# **Data Wrangling Lab**\n"
   ]
  },
  {
   "cell_type": "markdown",
   "metadata": {},
   "source": [
    "Estimated time needed: **45** minutes\n"
   ]
  },
  {
   "cell_type": "markdown",
   "metadata": {},
   "source": [
    "In this lab, you will perform data wrangling tasks to prepare raw data for analysis. Data wrangling involves cleaning, transforming, and organizing data into a structured format suitable for analysis. This lab focuses on tasks like identifying inconsistencies, encoding categorical variables, and feature transformation.\n"
   ]
  },
  {
   "cell_type": "markdown",
   "metadata": {},
   "source": [
    "## Objectives\n"
   ]
  },
  {
   "cell_type": "markdown",
   "metadata": {},
   "source": [
    "After completing this lab, you will be able to:\n"
   ]
  },
  {
   "cell_type": "markdown",
   "metadata": {},
   "source": [
    "- Identify and remove inconsistent data entries.\n",
    "\n",
    "- Encode categorical variables for analysis.\n",
    "\n",
    "- Handle missing values using multiple imputation strategies.\n",
    "\n",
    "- Apply feature scaling and transformation techniques.\n"
   ]
  },
  {
   "cell_type": "markdown",
   "metadata": {},
   "source": [
    "#### Intsall the required libraries\n"
   ]
  },
  {
   "cell_type": "code",
   "execution_count": 1,
   "metadata": {},
   "outputs": [
    {
     "name": "stdout",
     "output_type": "stream",
     "text": [
      "Collecting pandas\n",
      "  Downloading pandas-2.2.3-cp312-cp312-manylinux_2_17_x86_64.manylinux2014_x86_64.whl.metadata (89 kB)\n",
      "Collecting numpy>=1.26.0 (from pandas)\n",
      "  Downloading numpy-2.2.6-cp312-cp312-manylinux_2_17_x86_64.manylinux2014_x86_64.whl.metadata (62 kB)\n",
      "Requirement already satisfied: python-dateutil>=2.8.2 in /opt/conda/lib/python3.12/site-packages (from pandas) (2.9.0.post0)\n",
      "Requirement already satisfied: pytz>=2020.1 in /opt/conda/lib/python3.12/site-packages (from pandas) (2024.2)\n",
      "Collecting tzdata>=2022.7 (from pandas)\n",
      "  Downloading tzdata-2025.2-py2.py3-none-any.whl.metadata (1.4 kB)\n",
      "Requirement already satisfied: six>=1.5 in /opt/conda/lib/python3.12/site-packages (from python-dateutil>=2.8.2->pandas) (1.17.0)\n",
      "Downloading pandas-2.2.3-cp312-cp312-manylinux_2_17_x86_64.manylinux2014_x86_64.whl (12.7 MB)\n",
      "\u001b[2K   \u001b[90m━━━━━━━━━━━━━━━━━━━━━━━━━━━━━━━━━━━━━━━━\u001b[0m \u001b[32m12.7/12.7 MB\u001b[0m \u001b[31m199.6 MB/s\u001b[0m eta \u001b[36m0:00:00\u001b[0m\n",
      "\u001b[?25hDownloading numpy-2.2.6-cp312-cp312-manylinux_2_17_x86_64.manylinux2014_x86_64.whl (16.5 MB)\n",
      "\u001b[2K   \u001b[90m━━━━━━━━━━━━━━━━━━━━━━━━━━━━━━━━━━━━━━━━\u001b[0m \u001b[32m16.5/16.5 MB\u001b[0m \u001b[31m200.4 MB/s\u001b[0m eta \u001b[36m0:00:00\u001b[0m\n",
      "\u001b[?25hDownloading tzdata-2025.2-py2.py3-none-any.whl (347 kB)\n",
      "Installing collected packages: tzdata, numpy, pandas\n",
      "Successfully installed numpy-2.2.6 pandas-2.2.3 tzdata-2025.2\n",
      "Collecting matplotlib\n",
      "  Downloading matplotlib-3.10.3-cp312-cp312-manylinux_2_17_x86_64.manylinux2014_x86_64.whl.metadata (11 kB)\n",
      "Collecting contourpy>=1.0.1 (from matplotlib)\n",
      "  Downloading contourpy-1.3.2-cp312-cp312-manylinux_2_17_x86_64.manylinux2014_x86_64.whl.metadata (5.5 kB)\n",
      "Collecting cycler>=0.10 (from matplotlib)\n",
      "  Downloading cycler-0.12.1-py3-none-any.whl.metadata (3.8 kB)\n",
      "Collecting fonttools>=4.22.0 (from matplotlib)\n",
      "  Downloading fonttools-4.58.0-cp312-cp312-manylinux_2_5_x86_64.manylinux1_x86_64.manylinux_2_17_x86_64.manylinux2014_x86_64.whl.metadata (104 kB)\n",
      "Collecting kiwisolver>=1.3.1 (from matplotlib)\n",
      "  Downloading kiwisolver-1.4.8-cp312-cp312-manylinux_2_17_x86_64.manylinux2014_x86_64.whl.metadata (6.2 kB)\n",
      "Requirement already satisfied: numpy>=1.23 in /opt/conda/lib/python3.12/site-packages (from matplotlib) (2.2.6)\n",
      "Requirement already satisfied: packaging>=20.0 in /opt/conda/lib/python3.12/site-packages (from matplotlib) (24.2)\n",
      "Collecting pillow>=8 (from matplotlib)\n",
      "  Downloading pillow-11.2.1-cp312-cp312-manylinux_2_28_x86_64.whl.metadata (8.9 kB)\n",
      "Collecting pyparsing>=2.3.1 (from matplotlib)\n",
      "  Downloading pyparsing-3.2.3-py3-none-any.whl.metadata (5.0 kB)\n",
      "Requirement already satisfied: python-dateutil>=2.7 in /opt/conda/lib/python3.12/site-packages (from matplotlib) (2.9.0.post0)\n",
      "Requirement already satisfied: six>=1.5 in /opt/conda/lib/python3.12/site-packages (from python-dateutil>=2.7->matplotlib) (1.17.0)\n",
      "Downloading matplotlib-3.10.3-cp312-cp312-manylinux_2_17_x86_64.manylinux2014_x86_64.whl (8.6 MB)\n",
      "\u001b[2K   \u001b[90m━━━━━━━━━━━━━━━━━━━━━━━━━━━━━━━━━━━━━━━━\u001b[0m \u001b[32m8.6/8.6 MB\u001b[0m \u001b[31m184.7 MB/s\u001b[0m eta \u001b[36m0:00:00\u001b[0m\n",
      "\u001b[?25hDownloading contourpy-1.3.2-cp312-cp312-manylinux_2_17_x86_64.manylinux2014_x86_64.whl (323 kB)\n",
      "Downloading cycler-0.12.1-py3-none-any.whl (8.3 kB)\n",
      "Downloading fonttools-4.58.0-cp312-cp312-manylinux_2_5_x86_64.manylinux1_x86_64.manylinux_2_17_x86_64.manylinux2014_x86_64.whl (4.9 MB)\n",
      "\u001b[2K   \u001b[90m━━━━━━━━━━━━━━━━━━━━━━━━━━━━━━━━━━━━━━━━\u001b[0m \u001b[32m4.9/4.9 MB\u001b[0m \u001b[31m170.3 MB/s\u001b[0m eta \u001b[36m0:00:00\u001b[0m\n",
      "\u001b[?25hDownloading kiwisolver-1.4.8-cp312-cp312-manylinux_2_17_x86_64.manylinux2014_x86_64.whl (1.5 MB)\n",
      "\u001b[2K   \u001b[90m━━━━━━━━━━━━━━━━━━━━━━━━━━━━━━━━━━━━━━━━\u001b[0m \u001b[32m1.5/1.5 MB\u001b[0m \u001b[31m109.3 MB/s\u001b[0m eta \u001b[36m0:00:00\u001b[0m\n",
      "\u001b[?25hDownloading pillow-11.2.1-cp312-cp312-manylinux_2_28_x86_64.whl (4.6 MB)\n",
      "\u001b[2K   \u001b[90m━━━━━━━━━━━━━━━━━━━━━━━━━━━━━━━━━━━━━━━━\u001b[0m \u001b[32m4.6/4.6 MB\u001b[0m \u001b[31m167.0 MB/s\u001b[0m eta \u001b[36m0:00:00\u001b[0m\n",
      "\u001b[?25hDownloading pyparsing-3.2.3-py3-none-any.whl (111 kB)\n",
      "Installing collected packages: pyparsing, pillow, kiwisolver, fonttools, cycler, contourpy, matplotlib\n",
      "Successfully installed contourpy-1.3.2 cycler-0.12.1 fonttools-4.58.0 kiwisolver-1.4.8 matplotlib-3.10.3 pillow-11.2.1 pyparsing-3.2.3\n"
     ]
    }
   ],
   "source": [
    "!pip install pandas\n",
    "!pip install matplotlib"
   ]
  },
  {
   "cell_type": "markdown",
   "metadata": {},
   "source": [
    "## Tasks\n"
   ]
  },
  {
   "cell_type": "markdown",
   "metadata": {},
   "source": [
    "#### Step 1: Import the necessary module.\n"
   ]
  },
  {
   "cell_type": "markdown",
   "metadata": {},
   "source": [
    "### 1. Load the Dataset\n"
   ]
  },
  {
   "cell_type": "markdown",
   "metadata": {},
   "source": [
    "<h5>1.1 Import necessary libraries and load the dataset.</h5>\n"
   ]
  },
  {
   "cell_type": "markdown",
   "metadata": {},
   "source": [
    "Ensure the dataset is loaded correctly by displaying the first few rows.\n"
   ]
  },
  {
   "cell_type": "code",
   "execution_count": 2,
   "metadata": {},
   "outputs": [
    {
     "name": "stdout",
     "output_type": "stream",
     "text": [
      "   ResponseId                      MainBranch                 Age  \\\n",
      "0           1  I am a developer by profession  Under 18 years old   \n",
      "1           2  I am a developer by profession     35-44 years old   \n",
      "2           3  I am a developer by profession     45-54 years old   \n",
      "3           4           I am learning to code     18-24 years old   \n",
      "4           5  I am a developer by profession     18-24 years old   \n",
      "\n",
      "            Employment RemoteWork   Check  \\\n",
      "0  Employed, full-time     Remote  Apples   \n",
      "1  Employed, full-time     Remote  Apples   \n",
      "2  Employed, full-time     Remote  Apples   \n",
      "3   Student, full-time        NaN  Apples   \n",
      "4   Student, full-time        NaN  Apples   \n",
      "\n",
      "                                    CodingActivities  \\\n",
      "0                                              Hobby   \n",
      "1  Hobby;Contribute to open-source projects;Other...   \n",
      "2  Hobby;Contribute to open-source projects;Other...   \n",
      "3                                                NaN   \n",
      "4                                                NaN   \n",
      "\n",
      "                                             EdLevel  \\\n",
      "0                          Primary/elementary school   \n",
      "1       Bachelor’s degree (B.A., B.S., B.Eng., etc.)   \n",
      "2    Master’s degree (M.A., M.S., M.Eng., MBA, etc.)   \n",
      "3  Some college/university study without earning ...   \n",
      "4  Secondary school (e.g. American high school, G...   \n",
      "\n",
      "                                           LearnCode  \\\n",
      "0                             Books / Physical media   \n",
      "1  Books / Physical media;Colleague;On the job tr...   \n",
      "2  Books / Physical media;Colleague;On the job tr...   \n",
      "3  Other online resources (e.g., videos, blogs, f...   \n",
      "4  Other online resources (e.g., videos, blogs, f...   \n",
      "\n",
      "                                     LearnCodeOnline  ... JobSatPoints_6  \\\n",
      "0                                                NaN  ...            NaN   \n",
      "1  Technical documentation;Blogs;Books;Written Tu...  ...            0.0   \n",
      "2  Technical documentation;Blogs;Books;Written Tu...  ...            NaN   \n",
      "3  Stack Overflow;How-to videos;Interactive tutorial  ...            NaN   \n",
      "4  Technical documentation;Blogs;Written Tutorial...  ...            NaN   \n",
      "\n",
      "  JobSatPoints_7 JobSatPoints_8 JobSatPoints_9 JobSatPoints_10  \\\n",
      "0            NaN            NaN            NaN             NaN   \n",
      "1            0.0            0.0            0.0             0.0   \n",
      "2            NaN            NaN            NaN             NaN   \n",
      "3            NaN            NaN            NaN             NaN   \n",
      "4            NaN            NaN            NaN             NaN   \n",
      "\n",
      "  JobSatPoints_11           SurveyLength SurveyEase ConvertedCompYearly JobSat  \n",
      "0             NaN                    NaN        NaN                 NaN    NaN  \n",
      "1             0.0                    NaN        NaN                 NaN    NaN  \n",
      "2             NaN  Appropriate in length       Easy                 NaN    NaN  \n",
      "3             NaN               Too long       Easy                 NaN    NaN  \n",
      "4             NaN              Too short       Easy                 NaN    NaN  \n",
      "\n",
      "[5 rows x 114 columns]\n"
     ]
    }
   ],
   "source": [
    "# Import necessary libraries\n",
    "import pandas as pd\n",
    "\n",
    "# Load the Stack Overflow survey data\n",
    "dataset_url = \"https://cf-courses-data.s3.us.cloud-object-storage.appdomain.cloud/n01PQ9pSmiRX6520flujwQ/survey-data.csv\"\n",
    "df = pd.read_csv(dataset_url)\n",
    "\n",
    "# Display the first few rows\n",
    "print(df.head())\n"
   ]
  },
  {
   "cell_type": "code",
   "execution_count": 3,
   "metadata": {},
   "outputs": [
    {
     "name": "stdout",
     "output_type": "stream",
     "text": [
      "Number of duplicate rows in the dataset: 0\n"
     ]
    }
   ],
   "source": [
    "# Check for duplicate rows\n",
    "duplicate_count = df.duplicated().sum()\n",
    "print(f\"Number of duplicate rows in the dataset: {duplicate_count}\")\n"
   ]
  },
  {
   "cell_type": "code",
   "execution_count": 4,
   "metadata": {},
   "outputs": [
    {
     "name": "stdout",
     "output_type": "stream",
     "text": [
      "Unique ResponseIds: 65437\n",
      "Total rows: 65437\n"
     ]
    }
   ],
   "source": [
    "print(\"Unique ResponseIds:\", df['ResponseId'].nunique())\n",
    "print(\"Total rows:\", len(df))\n"
   ]
  },
  {
   "cell_type": "code",
   "execution_count": 5,
   "metadata": {},
   "outputs": [
    {
     "name": "stdout",
     "output_type": "stream",
     "text": [
      "Original dataset size: 65437\n",
      "After removing duplicates based on ['MainBranch', 'Employment', 'RemoteWork', 'Country', 'EdLevel', 'Age', 'CodingActivities']: 37332 rows\n",
      "Rows removed: 28105\n"
     ]
    }
   ],
   "source": [
    "## Utilize strategic identification of duplicates\n",
    "subset_cols = ['MainBranch', 'Employment', 'RemoteWork', 'Country', 'EdLevel', 'Age', 'CodingActivities']\n",
    "\n",
    "# Save original size\n",
    "original_size = df.shape[0]\n",
    "\n",
    "# Drop duplicates based on selected columns\n",
    "df_cleaned = df.drop_duplicates(subset=subset_cols)\n",
    "\n",
    "# Report the difference\n",
    "print(f\"Original dataset size: {original_size}\")\n",
    "print(f\"After removing duplicates based on {subset_cols}: {df_cleaned.shape[0]} rows\")\n",
    "print(f\"Rows removed: {original_size - df_cleaned.shape[0]}\")"
   ]
  },
  {
   "cell_type": "code",
   "execution_count": 6,
   "metadata": {},
   "outputs": [],
   "source": [
    "df = df_cleaned.copy()\n"
   ]
  },
  {
   "cell_type": "markdown",
   "metadata": {},
   "source": [
    "### Strategic Deduplication of Records\n",
    "\n",
    "To reduce artificial inflation in the dataset caused by repeat survey responses with identical answers across key fields, a strategic deduplication step was applied. Rather than removing exact duplicate rows, duplicates were identified using a subset of columns considered meaningful for participant uniqueness:\n",
    "\n",
    "* `MainBranch`\n",
    "* `Employment`\n",
    "* `RemoteWork`\n",
    "* `Country`\n",
    "* `EdLevel`\n",
    "* `Age`\n",
    "* `CodingActivities`\n",
    "\n",
    "This approach removed **28,105 redundant records**, reducing the dataset size from 65,437 to 37,332 entries. The deduplicated dataset was then reassigned to `df` to ensure all subsequent analysis used the cleaned data.\n",
    "\n",
    "As a result, histograms of `ConvertedCompYearly` and its log-transformed version showed greatly improved distributions, eliminating misleading spikes and enhancing interpretability for downstream analysis.\n",
    "\n"
   ]
  },
  {
   "cell_type": "markdown",
   "metadata": {},
   "source": [
    "#### 2. Explore the Dataset\n"
   ]
  },
  {
   "cell_type": "markdown",
   "metadata": {},
   "source": [
    "<h5>2.1 Summarize the dataset by displaying the column data types, counts, and missing values.</h5>\n"
   ]
  },
  {
   "cell_type": "code",
   "execution_count": 7,
   "metadata": {},
   "outputs": [
    {
     "name": "stdout",
     "output_type": "stream",
     "text": [
      "<class 'pandas.core.frame.DataFrame'>\n",
      "Index: 37332 entries, 0 to 65435\n",
      "Columns: 114 entries, ResponseId to JobSat\n",
      "dtypes: float64(13), int64(1), object(100)\n",
      "memory usage: 32.8+ MB\n",
      "None\n",
      "\n",
      "Missing values per column:\n",
      "ResponseId                 0\n",
      "MainBranch                 0\n",
      "Age                        0\n",
      "Employment                 0\n",
      "RemoteWork              4990\n",
      "                       ...  \n",
      "JobSatPoints_11        20433\n",
      "SurveyLength            4217\n",
      "SurveyEase              4191\n",
      "ConvertedCompYearly    23227\n",
      "JobSat                 20660\n",
      "Length: 114, dtype: int64\n"
     ]
    }
   ],
   "source": [
    "# Write your code here\n",
    "# Column data types and non-null counts\n",
    "print(df.info())\n",
    "\n",
    "# Count of missing values per column\n",
    "print(\"\\nMissing values per column:\")\n",
    "print(df.isnull().sum())\n"
   ]
  },
  {
   "cell_type": "markdown",
   "metadata": {},
   "source": [
    "<h5>2.2 Generate basic statistics for numerical columns.</h5>\n"
   ]
  },
  {
   "cell_type": "code",
   "execution_count": 8,
   "metadata": {},
   "outputs": [
    {
     "data": {
      "text/html": [
       "<div>\n",
       "<style scoped>\n",
       "    .dataframe tbody tr th:only-of-type {\n",
       "        vertical-align: middle;\n",
       "    }\n",
       "\n",
       "    .dataframe tbody tr th {\n",
       "        vertical-align: top;\n",
       "    }\n",
       "\n",
       "    .dataframe thead th {\n",
       "        text-align: right;\n",
       "    }\n",
       "</style>\n",
       "<table border=\"1\" class=\"dataframe\">\n",
       "  <thead>\n",
       "    <tr style=\"text-align: right;\">\n",
       "      <th></th>\n",
       "      <th>ResponseId</th>\n",
       "      <th>CompTotal</th>\n",
       "      <th>WorkExp</th>\n",
       "      <th>JobSatPoints_1</th>\n",
       "      <th>JobSatPoints_4</th>\n",
       "      <th>JobSatPoints_5</th>\n",
       "      <th>JobSatPoints_6</th>\n",
       "      <th>JobSatPoints_7</th>\n",
       "      <th>JobSatPoints_8</th>\n",
       "      <th>JobSatPoints_9</th>\n",
       "      <th>JobSatPoints_10</th>\n",
       "      <th>JobSatPoints_11</th>\n",
       "      <th>ConvertedCompYearly</th>\n",
       "      <th>JobSat</th>\n",
       "    </tr>\n",
       "  </thead>\n",
       "  <tbody>\n",
       "    <tr>\n",
       "      <th>count</th>\n",
       "      <td>37332.000000</td>\n",
       "      <td>1.886800e+04</td>\n",
       "      <td>16956.000000</td>\n",
       "      <td>16823.000000</td>\n",
       "      <td>16867.000000</td>\n",
       "      <td>16874.000000</td>\n",
       "      <td>16904.000000</td>\n",
       "      <td>16900.000000</td>\n",
       "      <td>16903.000000</td>\n",
       "      <td>16896.000000</td>\n",
       "      <td>16900.000000</td>\n",
       "      <td>16899.000000</td>\n",
       "      <td>1.410500e+04</td>\n",
       "      <td>16672.000000</td>\n",
       "    </tr>\n",
       "    <tr>\n",
       "      <th>mean</th>\n",
       "      <td>29253.611459</td>\n",
       "      <td>5.299979e+145</td>\n",
       "      <td>11.963553</td>\n",
       "      <td>19.405754</td>\n",
       "      <td>8.627661</td>\n",
       "      <td>11.094102</td>\n",
       "      <td>24.089765</td>\n",
       "      <td>23.635444</td>\n",
       "      <td>20.886460</td>\n",
       "      <td>16.622473</td>\n",
       "      <td>11.705991</td>\n",
       "      <td>10.482958</td>\n",
       "      <td>7.760104e+04</td>\n",
       "      <td>6.931202</td>\n",
       "    </tr>\n",
       "    <tr>\n",
       "      <th>std</th>\n",
       "      <td>18907.246835</td>\n",
       "      <td>7.280095e+147</td>\n",
       "      <td>9.788472</td>\n",
       "      <td>27.004512</td>\n",
       "      <td>19.802101</td>\n",
       "      <td>22.990934</td>\n",
       "      <td>27.799339</td>\n",
       "      <td>27.971895</td>\n",
       "      <td>27.012168</td>\n",
       "      <td>25.775808</td>\n",
       "      <td>23.726584</td>\n",
       "      <td>22.538148</td>\n",
       "      <td>2.199149e+05</td>\n",
       "      <td>2.129851</td>\n",
       "    </tr>\n",
       "    <tr>\n",
       "      <th>min</th>\n",
       "      <td>1.000000</td>\n",
       "      <td>0.000000e+00</td>\n",
       "      <td>0.000000</td>\n",
       "      <td>0.000000</td>\n",
       "      <td>0.000000</td>\n",
       "      <td>0.000000</td>\n",
       "      <td>0.000000</td>\n",
       "      <td>0.000000</td>\n",
       "      <td>0.000000</td>\n",
       "      <td>0.000000</td>\n",
       "      <td>0.000000</td>\n",
       "      <td>0.000000</td>\n",
       "      <td>1.000000e+00</td>\n",
       "      <td>0.000000</td>\n",
       "    </tr>\n",
       "    <tr>\n",
       "      <th>25%</th>\n",
       "      <td>12437.500000</td>\n",
       "      <td>5.000000e+04</td>\n",
       "      <td>4.000000</td>\n",
       "      <td>0.000000</td>\n",
       "      <td>0.000000</td>\n",
       "      <td>0.000000</td>\n",
       "      <td>0.000000</td>\n",
       "      <td>0.000000</td>\n",
       "      <td>0.000000</td>\n",
       "      <td>0.000000</td>\n",
       "      <td>0.000000</td>\n",
       "      <td>0.000000</td>\n",
       "      <td>2.640600e+04</td>\n",
       "      <td>6.000000</td>\n",
       "    </tr>\n",
       "    <tr>\n",
       "      <th>50%</th>\n",
       "      <td>27920.500000</td>\n",
       "      <td>1.000000e+05</td>\n",
       "      <td>10.000000</td>\n",
       "      <td>10.000000</td>\n",
       "      <td>0.000000</td>\n",
       "      <td>0.000000</td>\n",
       "      <td>15.000000</td>\n",
       "      <td>15.000000</td>\n",
       "      <td>10.000000</td>\n",
       "      <td>5.000000</td>\n",
       "      <td>0.000000</td>\n",
       "      <td>0.000000</td>\n",
       "      <td>5.732500e+04</td>\n",
       "      <td>7.000000</td>\n",
       "    </tr>\n",
       "    <tr>\n",
       "      <th>75%</th>\n",
       "      <td>45327.250000</td>\n",
       "      <td>3.048815e+05</td>\n",
       "      <td>17.000000</td>\n",
       "      <td>25.000000</td>\n",
       "      <td>10.000000</td>\n",
       "      <td>10.000000</td>\n",
       "      <td>30.000000</td>\n",
       "      <td>30.000000</td>\n",
       "      <td>30.000000</td>\n",
       "      <td>20.000000</td>\n",
       "      <td>10.000000</td>\n",
       "      <td>10.000000</td>\n",
       "      <td>9.666600e+04</td>\n",
       "      <td>8.000000</td>\n",
       "    </tr>\n",
       "    <tr>\n",
       "      <th>max</th>\n",
       "      <td>65436.000000</td>\n",
       "      <td>1.000000e+150</td>\n",
       "      <td>50.000000</td>\n",
       "      <td>100.000000</td>\n",
       "      <td>100.000000</td>\n",
       "      <td>100.000000</td>\n",
       "      <td>100.000000</td>\n",
       "      <td>100.000000</td>\n",
       "      <td>100.000000</td>\n",
       "      <td>100.000000</td>\n",
       "      <td>100.000000</td>\n",
       "      <td>100.000000</td>\n",
       "      <td>1.625660e+07</td>\n",
       "      <td>10.000000</td>\n",
       "    </tr>\n",
       "  </tbody>\n",
       "</table>\n",
       "</div>"
      ],
      "text/plain": [
       "         ResponseId      CompTotal       WorkExp  JobSatPoints_1  \\\n",
       "count  37332.000000   1.886800e+04  16956.000000    16823.000000   \n",
       "mean   29253.611459  5.299979e+145     11.963553       19.405754   \n",
       "std    18907.246835  7.280095e+147      9.788472       27.004512   \n",
       "min        1.000000   0.000000e+00      0.000000        0.000000   \n",
       "25%    12437.500000   5.000000e+04      4.000000        0.000000   \n",
       "50%    27920.500000   1.000000e+05     10.000000       10.000000   \n",
       "75%    45327.250000   3.048815e+05     17.000000       25.000000   \n",
       "max    65436.000000  1.000000e+150     50.000000      100.000000   \n",
       "\n",
       "       JobSatPoints_4  JobSatPoints_5  JobSatPoints_6  JobSatPoints_7  \\\n",
       "count    16867.000000    16874.000000    16904.000000    16900.000000   \n",
       "mean         8.627661       11.094102       24.089765       23.635444   \n",
       "std         19.802101       22.990934       27.799339       27.971895   \n",
       "min          0.000000        0.000000        0.000000        0.000000   \n",
       "25%          0.000000        0.000000        0.000000        0.000000   \n",
       "50%          0.000000        0.000000       15.000000       15.000000   \n",
       "75%         10.000000       10.000000       30.000000       30.000000   \n",
       "max        100.000000      100.000000      100.000000      100.000000   \n",
       "\n",
       "       JobSatPoints_8  JobSatPoints_9  JobSatPoints_10  JobSatPoints_11  \\\n",
       "count    16903.000000    16896.000000     16900.000000     16899.000000   \n",
       "mean        20.886460       16.622473        11.705991        10.482958   \n",
       "std         27.012168       25.775808        23.726584        22.538148   \n",
       "min          0.000000        0.000000         0.000000         0.000000   \n",
       "25%          0.000000        0.000000         0.000000         0.000000   \n",
       "50%         10.000000        5.000000         0.000000         0.000000   \n",
       "75%         30.000000       20.000000        10.000000        10.000000   \n",
       "max        100.000000      100.000000       100.000000       100.000000   \n",
       "\n",
       "       ConvertedCompYearly        JobSat  \n",
       "count         1.410500e+04  16672.000000  \n",
       "mean          7.760104e+04      6.931202  \n",
       "std           2.199149e+05      2.129851  \n",
       "min           1.000000e+00      0.000000  \n",
       "25%           2.640600e+04      6.000000  \n",
       "50%           5.732500e+04      7.000000  \n",
       "75%           9.666600e+04      8.000000  \n",
       "max           1.625660e+07     10.000000  "
      ]
     },
     "execution_count": 8,
     "metadata": {},
     "output_type": "execute_result"
    }
   ],
   "source": [
    "# Write your code here\n",
    "# Summary statistics for numerical columns\n",
    "df.describe()\n"
   ]
  },
  {
   "cell_type": "markdown",
   "metadata": {},
   "source": [
    "### 3. Identifying and Removing Inconsistencies\n"
   ]
  },
  {
   "cell_type": "markdown",
   "metadata": {},
   "source": [
    "<h5>3.1 Identify inconsistent or irrelevant entries in specific columns (e.g., Country).</h5>\n"
   ]
  },
  {
   "cell_type": "code",
   "execution_count": 9,
   "metadata": {},
   "outputs": [
    {
     "name": "stdout",
     "output_type": "stream",
     "text": [
      "['United States of America'\n",
      " 'United Kingdom of Great Britain and Northern Ireland' 'Canada' 'Norway'\n",
      " 'Uzbekistan' 'Serbia' 'Poland' 'Philippines' 'Bulgaria' 'Switzerland'\n",
      " 'India' 'Germany' 'Ireland' 'Italy' 'Ukraine' 'Australia' 'Brazil'\n",
      " 'Japan' 'Austria' 'Iran, Islamic Republic of...' 'France' 'Saudi Arabia'\n",
      " 'Romania' 'Turkey' 'Nepal' 'Algeria' 'Sweden' 'Netherlands' 'Croatia'\n",
      " 'Pakistan' 'Czech Republic' 'Republic of North Macedonia' 'Finland'\n",
      " 'Slovakia' 'Russian Federation' 'Greece' 'Israel' 'Belgium' 'Mexico'\n",
      " 'United Republic of Tanzania' 'Hungary' 'Argentina' 'Portugal'\n",
      " 'Sri Lanka' 'Latvia' 'China' 'Singapore' 'Lebanon' 'Spain' 'South Africa'\n",
      " 'Lithuania' 'Viet Nam' 'Dominican Republic' 'Indonesia' 'Kosovo'\n",
      " 'Morocco' 'Taiwan' 'Georgia' 'San Marino' 'Tunisia' 'Bangladesh'\n",
      " 'Nigeria' 'Liechtenstein' 'Denmark' 'Ecuador' 'Malaysia' 'Albania'\n",
      " 'Azerbaijan' 'Chile' 'Ghana' 'Peru' 'Bolivia' 'Egypt' 'Luxembourg'\n",
      " 'Montenegro' 'Cyprus' 'Paraguay' 'Kazakhstan' 'Slovenia' 'Jordan'\n",
      " 'Venezuela, Bolivarian Republic of...' 'Costa Rica' 'Jamaica' 'Thailand'\n",
      " 'Nicaragua' 'Myanmar' 'Republic of Korea' 'Rwanda'\n",
      " 'Bosnia and Herzegovina' 'Benin' 'El Salvador' 'Zimbabwe' 'Afghanistan'\n",
      " 'Estonia' 'Malta' 'Uruguay' 'Belarus' 'Colombia' 'Republic of Moldova'\n",
      " 'Isle of Man' 'Nomadic' 'New Zealand' 'Palestine' 'Armenia'\n",
      " 'United Arab Emirates' 'Maldives' 'Ethiopia' 'Fiji' 'Guatemala' 'Uganda'\n",
      " 'Turkmenistan' 'Mauritius' 'Kenya' 'Cuba' 'Gabon' 'Bahamas' 'South Korea'\n",
      " 'Iceland' 'Honduras' 'Hong Kong (S.A.R.)'\n",
      " \"Lao People's Democratic Republic\" 'Mongolia' 'Cambodia' 'Madagascar'\n",
      " 'Angola' 'Democratic Republic of the Congo' 'Syrian Arab Republic' 'Iraq'\n",
      " 'Namibia' 'Senegal' 'Kyrgyzstan' 'Zambia' 'Swaziland' \"Côte d'Ivoire\"\n",
      " 'Kuwait' 'Tajikistan' 'Burundi' 'Trinidad and Tobago' 'Mauritania'\n",
      " 'Sierra Leone' 'Panama' 'Somalia' 'North Korea' 'Dominica' 'Guyana'\n",
      " 'Togo' 'Oman' 'Barbados' 'Andorra'\n",
      " \"Democratic People's Republic of Korea\" 'Qatar' 'Sudan' 'Cameroon'\n",
      " 'Papua New Guinea' 'Bahrain' 'Yemen' 'Malawi' 'Burkina Faso'\n",
      " 'Congo, Republic of the...' 'Botswana' 'Guinea-Bissau' 'Mozambique'\n",
      " 'Central African Republic' 'Equatorial Guinea' 'Suriname' 'Belize'\n",
      " 'Libyan Arab Jamahiriya' 'Cape Verde' 'Brunei Darussalam' 'Bhutan'\n",
      " 'Guinea' 'Niger' 'Antigua and Barbuda' 'Mali' 'Samoa' 'Lesotho'\n",
      " 'Saint Kitts and Nevis' 'Monaco' 'Micronesia, Federated States of...'\n",
      " 'Haiti' nan 'Nauru' 'Liberia' 'Chad' 'Djibouti' 'Solomon Islands']\n",
      "Country\n",
      "United States of America                                4081\n",
      "NaN                                                     2759\n",
      "Germany                                                 2325\n",
      "India                                                   1551\n",
      "United Kingdom of Great Britain and Northern Ireland    1530\n",
      "                                                        ... \n",
      "Micronesia, Federated States of...                         1\n",
      "Nauru                                                      1\n",
      "Chad                                                       1\n",
      "Djibouti                                                   1\n",
      "Solomon Islands                                            1\n",
      "Name: count, Length: 186, dtype: int64\n"
     ]
    }
   ],
   "source": [
    "# Write your code here\n",
    "# Check unique values in 'Country' column\n",
    "print(df['Country'].unique())\n",
    "\n",
    "# Optional: Count of each unique entry (to find typos or infrequent entries)\n",
    "print(df['Country'].value_counts(dropna=False))\n"
   ]
  },
  {
   "cell_type": "code",
   "execution_count": 7,
   "metadata": {},
   "outputs": [],
   "source": [
    "country_mapping = {\n",
    "    'United States of America': 'USA',\n",
    "    'United Kingdom of Great Britain and Northern Ireland': 'UK and N. Ireland',\n",
    "    'Iran, Islamic Republic of...': 'Iran',\n",
    "    'Hong Kong (S.A.R.)': 'Hong Kong',\n",
    "    'Venezuela, Bolivarian Republic of...': 'Venezuela',\n",
    "    'Democratic People\\'s Republic of Korea': 'North Korea',\n",
    "    'Republic of Korea': 'South Korea',\n",
    "    'Russian Federation': 'Russia',\n",
    "    'Lao People\\'s Democratic Republic': 'Laos',\n",
    "    'Syrian Arab Republic': 'Syria',\n",
    "    'United Republic of Tanzania': 'Tanzania',\n",
    "    'Republic of Moldova': 'Moldova',\n",
    "    'Palestinian Territory': 'Palestine',\n",
    "    'Micronesia, Federated States of...': 'Micronesia',\n",
    "    'Congo, Republic of the...': 'Congo',\n",
    "    'Democratic Republic of the Congo': 'DR Congo',\n",
    "    'Bosnia and Herzegovina': 'Bosnia',\n",
    "    'Libyan Arab Jamahiriya': 'Libya',\n",
    "    'Bolivia, Plurinational State of...': 'Bolivia'\n",
    "}\n",
    "\n",
    "# Apply the mapping\n",
    "df['Country'] = df['Country'].replace(country_mapping)\n",
    "\n",
    "# Optional: fill in missing values\n",
    "df['Country'] = df['Country'].fillna('Unknown')\n"
   ]
  },
  {
   "cell_type": "code",
   "execution_count": 8,
   "metadata": {},
   "outputs": [
    {
     "name": "stdout",
     "output_type": "stream",
     "text": [
      "['USA' 'UK and N. Ireland' 'Canada' 'Norway' 'Uzbekistan' 'Serbia'\n",
      " 'Poland' 'Philippines' 'Bulgaria' 'Switzerland' 'India' 'Germany'\n",
      " 'Ireland' 'Italy' 'Ukraine' 'Australia' 'Brazil' 'Japan' 'Austria' 'Iran'\n",
      " 'France' 'Saudi Arabia' 'Romania' 'Turkey' 'Nepal' 'Algeria' 'Sweden'\n",
      " 'Netherlands' 'Croatia' 'Pakistan' 'Czech Republic'\n",
      " 'Republic of North Macedonia' 'Finland' 'Slovakia' 'Russia' 'Greece'\n",
      " 'Israel' 'Belgium' 'Mexico' 'Tanzania' 'Hungary' 'Argentina' 'Portugal'\n",
      " 'Sri Lanka' 'Latvia' 'China' 'Singapore' 'Lebanon' 'Spain' 'South Africa'\n",
      " 'Lithuania' 'Viet Nam' 'Dominican Republic' 'Indonesia' 'Kosovo'\n",
      " 'Morocco' 'Taiwan' 'Georgia' 'San Marino' 'Tunisia' 'Bangladesh'\n",
      " 'Nigeria' 'Liechtenstein' 'Denmark' 'Ecuador' 'Malaysia' 'Albania'\n",
      " 'Azerbaijan' 'Chile' 'Ghana' 'Peru' 'Bolivia' 'Egypt' 'Luxembourg'\n",
      " 'Montenegro' 'Cyprus' 'Paraguay' 'Kazakhstan' 'Slovenia' 'Jordan'\n",
      " 'Venezuela' 'Costa Rica' 'Jamaica' 'Thailand' 'Nicaragua' 'Myanmar'\n",
      " 'South Korea' 'Rwanda' 'Bosnia' 'Benin' 'El Salvador' 'Zimbabwe'\n",
      " 'Afghanistan' 'Estonia' 'Malta' 'Uruguay' 'Belarus' 'Colombia' 'Moldova'\n",
      " 'Isle of Man' 'Nomadic' 'New Zealand' 'Palestine' 'Armenia'\n",
      " 'United Arab Emirates' 'Maldives' 'Ethiopia' 'Fiji' 'Guatemala' 'Uganda'\n",
      " 'Turkmenistan' 'Mauritius' 'Kenya' 'Cuba' 'Gabon' 'Bahamas' 'Iceland'\n",
      " 'Honduras' 'Hong Kong' 'Laos' 'Mongolia' 'Cambodia' 'Madagascar' 'Angola'\n",
      " 'DR Congo' 'Syria' 'Iraq' 'Namibia' 'Senegal' 'Kyrgyzstan' 'Zambia'\n",
      " 'Swaziland' \"Côte d'Ivoire\" 'Kuwait' 'Tajikistan' 'Burundi'\n",
      " 'Trinidad and Tobago' 'Mauritania' 'Sierra Leone' 'Panama' 'Somalia'\n",
      " 'North Korea' 'Dominica' 'Guyana' 'Togo' 'Oman' 'Barbados' 'Andorra'\n",
      " 'Qatar' 'Sudan' 'Cameroon' 'Papua New Guinea' 'Bahrain' 'Yemen' 'Malawi'\n",
      " 'Burkina Faso' 'Congo' 'Botswana' 'Guinea-Bissau' 'Mozambique'\n",
      " 'Central African Republic' 'Equatorial Guinea' 'Suriname' 'Belize'\n",
      " 'Libya' 'Cape Verde' 'Brunei Darussalam' 'Bhutan' 'Guinea' 'Niger'\n",
      " 'Antigua and Barbuda' 'Mali' 'Samoa' 'Lesotho' 'Saint Kitts and Nevis'\n",
      " 'Monaco' 'Micronesia' 'Haiti' 'Unknown' 'Nauru' 'Liberia' 'Chad'\n",
      " 'Djibouti' 'Solomon Islands']\n",
      "Country\n",
      "USA                  11095\n",
      "Unknown               6507\n",
      "Germany               4947\n",
      "India                 4231\n",
      "UK and N. Ireland     3224\n",
      "                     ...  \n",
      "Micronesia               1\n",
      "Nauru                    1\n",
      "Chad                     1\n",
      "Djibouti                 1\n",
      "Solomon Islands          1\n",
      "Name: count, Length: 184, dtype: int64\n"
     ]
    }
   ],
   "source": [
    "# Check unique values in 'Country' column\n",
    "print(df['Country'].unique())\n",
    "\n",
    "# Optional: Count of each unique entry (to find typos or infrequent entries)\n",
    "print(df['Country'].value_counts(dropna=False))"
   ]
  },
  {
   "cell_type": "code",
   "execution_count": 10,
   "metadata": {},
   "outputs": [
    {
     "ename": "NameError",
     "evalue": "name 'country_mapping' is not defined",
     "output_type": "error",
     "traceback": [
      "\u001b[0;31m---------------------------------------------------------------------------\u001b[0m",
      "\u001b[0;31mNameError\u001b[0m                                 Traceback (most recent call last)",
      "Cell \u001b[0;32mIn[10], line 2\u001b[0m\n\u001b[1;32m      1\u001b[0m \u001b[38;5;66;03m# Step 1: Apply your country mapping first (from earlier step)\u001b[39;00m\n\u001b[0;32m----> 2\u001b[0m df[\u001b[38;5;124m'\u001b[39m\u001b[38;5;124mCountry\u001b[39m\u001b[38;5;124m'\u001b[39m] \u001b[38;5;241m=\u001b[39m df[\u001b[38;5;124m'\u001b[39m\u001b[38;5;124mCountry\u001b[39m\u001b[38;5;124m'\u001b[39m]\u001b[38;5;241m.\u001b[39mreplace(\u001b[43mcountry_mapping\u001b[49m)\n\u001b[1;32m      3\u001b[0m df[\u001b[38;5;124m'\u001b[39m\u001b[38;5;124mCountry\u001b[39m\u001b[38;5;124m'\u001b[39m] \u001b[38;5;241m=\u001b[39m df[\u001b[38;5;124m'\u001b[39m\u001b[38;5;124mCountry\u001b[39m\u001b[38;5;124m'\u001b[39m]\u001b[38;5;241m.\u001b[39mfillna(\u001b[38;5;124m'\u001b[39m\u001b[38;5;124mUnknown\u001b[39m\u001b[38;5;124m'\u001b[39m)\n\u001b[1;32m      5\u001b[0m \u001b[38;5;66;03m# Step 2: Count frequencies\u001b[39;00m\n",
      "\u001b[0;31mNameError\u001b[0m: name 'country_mapping' is not defined"
     ]
    }
   ],
   "source": [
    "# Step 1: Apply your country mapping first (from earlier step)\n",
    "df['Country'] = df['Country'].replace(country_mapping)\n",
    "df['Country'] = df['Country'].fillna('Unknown')\n",
    "\n",
    "# Step 2: Count frequencies\n",
    "country_counts = df['Country'].value_counts()\n",
    "\n",
    "# Step 3: Identify countries that appear fewer than 5 times\n",
    "low_freq_countries = country_counts[country_counts < 5].index\n",
    "\n",
    "# Step 4: Replace them with 'Other'\n",
    "df['Country'] = df['Country'].apply(lambda x: 'Other' if x in low_freq_countries else x)\n",
    "\n",
    "print(df['Country'].value_counts(dropna=False))\n"
   ]
  },
  {
   "cell_type": "code",
   "execution_count": 11,
   "metadata": {},
   "outputs": [
    {
     "name": "stdout",
     "output_type": "stream",
     "text": [
      "['Primary/elementary school'\n",
      " 'Bachelor’s degree (B.A., B.S., B.Eng., etc.)'\n",
      " 'Master’s degree (M.A., M.S., M.Eng., MBA, etc.)'\n",
      " 'Some college/university study without earning a degree'\n",
      " 'Secondary school (e.g. American high school, German Realschule or Gymnasium, etc.)'\n",
      " 'Professional degree (JD, MD, Ph.D, Ed.D, etc.)'\n",
      " 'Associate degree (A.A., A.S., etc.)' 'Something else' nan]\n",
      "EdLevel\n",
      "Bachelor’s degree (B.A., B.S., B.Eng., etc.)                                          12300\n",
      "Master’s degree (M.A., M.S., M.Eng., MBA, etc.)                                        8611\n",
      "Some college/university study without earning a degree                                 5579\n",
      "Secondary school (e.g. American high school, German Realschule or Gymnasium, etc.)     3725\n",
      "Professional degree (JD, MD, Ph.D, Ed.D, etc.)                                         2409\n",
      "NaN                                                                                    1627\n",
      "Associate degree (A.A., A.S., etc.)                                                    1484\n",
      "Something else                                                                          835\n",
      "Primary/elementary school                                                               762\n",
      "Name: count, dtype: int64\n"
     ]
    }
   ],
   "source": [
    "# Check unique values in 'EdLevel' column\n",
    "print(df['EdLevel'].unique())\n",
    "print(df['EdLevel'].value_counts(dropna=False))"
   ]
  },
  {
   "cell_type": "markdown",
   "metadata": {},
   "source": [
    "<h5>3.2 Standardize entries in columns like Country or EdLevel by mapping inconsistent values to a consistent format.</h5>\n"
   ]
  },
  {
   "cell_type": "code",
   "execution_count": 12,
   "metadata": {},
   "outputs": [
    {
     "name": "stdout",
     "output_type": "stream",
     "text": [
      "['Other' 'Bachelors' 'Masters' 'Some college' 'High school' 'Professional']\n",
      "EdLevel\n",
      "Bachelors       12300\n",
      "Masters          8611\n",
      "Some college     5579\n",
      "Other            4708\n",
      "High school      3725\n",
      "Professional     2409\n",
      "Name: count, dtype: int64\n"
     ]
    }
   ],
   "source": [
    "import numpy as np\n",
    "\n",
    "# Create mapping for education levels\n",
    "edlevel_mapping = {\n",
    "    \"Bachelor’s degree (B.A., B.S., B.Eng., etc.)\": \"Bachelors\",\n",
    "    \"Master’s degree (M.A., M.S., M.Eng., MBA, etc.)\": \"Masters\",\n",
    "    \"Some college/university study without earning a degree\": \"Some college\",\n",
    "    \"Secondary school (e.g. American high school, German Realschule or Gymnasium, etc.)\": \"High school\",\n",
    "    \"Professional degree (JD, MD, Ph.D, Ed.D, etc.)\": \"Professional\",\n",
    "    \"Associate degree (A.A., A.S., etc.)\": \"Associate\",\n",
    "    \"Primary/elementary school\": \"Primary school\",\n",
    "    \"Something else\": \"Other\",\n",
    "    \"EdLevel\": \"Unknown\",  # cleanup from string label\n",
    "    np.nan: \"Unknown\"      # fill missing values\n",
    "}\n",
    "\n",
    "# Apply mapping\n",
    "df['EdLevel'] = df['EdLevel'].replace(edlevel_mapping)\n",
    "\n",
    "# Optional: Group all levels with < 2000 responses into 'Other'\n",
    "ed_counts = df['EdLevel'].value_counts()\n",
    "low_ed_levels = ed_counts[ed_counts < 2000].index\n",
    "\n",
    "df['EdLevel'] = df['EdLevel'].apply(lambda x: 'Other' if x in low_ed_levels else x)\n",
    "\n",
    "# Check unique values in 'EdLevel' column\n",
    "print(df['EdLevel'].unique())\n",
    "print(df['EdLevel'].value_counts(dropna=False))"
   ]
  },
  {
   "cell_type": "markdown",
   "metadata": {},
   "source": [
    "### 4. Encoding Categorical Variables\n"
   ]
  },
  {
   "cell_type": "markdown",
   "metadata": {},
   "source": [
    "<h5>4.1 Encode the Employment column using one-hot encoding.</h5>\n"
   ]
  },
  {
   "cell_type": "code",
   "execution_count": 13,
   "metadata": {},
   "outputs": [],
   "source": [
    "## Write your code here\n",
    "# One-hot encode the 'Employment' column\n",
    "employment_dummies = pd.get_dummies(df['Employment'], prefix='Employment')\n",
    "\n",
    "# Concatenate the dummy columns to the original DataFrame\n",
    "df = pd.concat([df, employment_dummies], axis=1)\n",
    "\n",
    "# Optionally drop the original 'Employment' column\n",
    "df.drop('Employment', axis=1, inplace=True)\n"
   ]
  },
  {
   "cell_type": "markdown",
   "metadata": {},
   "source": [
    "### 5. Handling Missing Values\n"
   ]
  },
  {
   "cell_type": "markdown",
   "metadata": {},
   "source": [
    "<h5>5.1 Identify columns with the highest number of missing values.</h5>\n"
   ]
  },
  {
   "cell_type": "code",
   "execution_count": 14,
   "metadata": {},
   "outputs": [
    {
     "name": "stdout",
     "output_type": "stream",
     "text": [
      "AINextMuch less integrated    36540\n",
      "AINextLess integrated         35844\n",
      "AINextNo change               29976\n",
      "AINextMuch more integrated    28968\n",
      "EmbeddedAdmired               27279\n",
      "                              ...  \n",
      "DevType                        2490\n",
      "NEWSOSites                     2232\n",
      "YearsCode                      2197\n",
      "AISelect                       1980\n",
      "LearnCode                      1809\n",
      "Length: 108, dtype: int64\n"
     ]
    }
   ],
   "source": [
    "## Write your code here\n",
    "# Count missing values in each column and sort in descending order\n",
    "missing_values = df.isnull().sum()\n",
    "missing_values = missing_values[missing_values > 0].sort_values(ascending=False)\n",
    "\n",
    "# Display the result\n",
    "print(missing_values)\n"
   ]
  },
  {
   "cell_type": "markdown",
   "metadata": {},
   "source": [
    "<h5>5.2 Impute missing values in numerical columns (e.g., `ConvertedCompYearly`) with the mean or median.</h5>\n"
   ]
  },
  {
   "cell_type": "code",
   "execution_count": 15,
   "metadata": {},
   "outputs": [
    {
     "name": "stdout",
     "output_type": "stream",
     "text": [
      "Collecting scikit-learn\n",
      "  Downloading scikit_learn-1.6.1-cp312-cp312-manylinux_2_17_x86_64.manylinux2014_x86_64.whl.metadata (18 kB)\n",
      "Requirement already satisfied: numpy>=1.19.5 in /opt/conda/lib/python3.12/site-packages (from scikit-learn) (2.2.6)\n",
      "Collecting scipy>=1.6.0 (from scikit-learn)\n",
      "  Downloading scipy-1.15.3-cp312-cp312-manylinux_2_17_x86_64.manylinux2014_x86_64.whl.metadata (61 kB)\n",
      "Collecting joblib>=1.2.0 (from scikit-learn)\n",
      "  Downloading joblib-1.5.0-py3-none-any.whl.metadata (5.6 kB)\n",
      "Collecting threadpoolctl>=3.1.0 (from scikit-learn)\n",
      "  Downloading threadpoolctl-3.6.0-py3-none-any.whl.metadata (13 kB)\n",
      "Downloading scikit_learn-1.6.1-cp312-cp312-manylinux_2_17_x86_64.manylinux2014_x86_64.whl (13.1 MB)\n",
      "\u001b[2K   \u001b[90m━━━━━━━━━━━━━━━━━━━━━━━━━━━━━━━━━━━━━━━━\u001b[0m \u001b[32m13.1/13.1 MB\u001b[0m \u001b[31m109.0 MB/s\u001b[0m eta \u001b[36m0:00:00\u001b[0m\n",
      "\u001b[?25hDownloading joblib-1.5.0-py3-none-any.whl (307 kB)\n",
      "Downloading scipy-1.15.3-cp312-cp312-manylinux_2_17_x86_64.manylinux2014_x86_64.whl (37.3 MB)\n",
      "\u001b[2K   \u001b[90m━━━━━━━━━━━━━━━━━━━━━━━━━━━━━━━━━━━━━━━━\u001b[0m \u001b[32m37.3/37.3 MB\u001b[0m \u001b[31m124.2 MB/s\u001b[0m eta \u001b[36m0:00:00\u001b[0m00:01\u001b[0m\n",
      "\u001b[?25hDownloading threadpoolctl-3.6.0-py3-none-any.whl (18 kB)\n",
      "Installing collected packages: threadpoolctl, scipy, joblib, scikit-learn\n",
      "Successfully installed joblib-1.5.0 scikit-learn-1.6.1 scipy-1.15.3 threadpoolctl-3.6.0\n"
     ]
    }
   ],
   "source": [
    "!pip install scikit-learn"
   ]
  },
  {
   "cell_type": "code",
   "execution_count": 16,
   "metadata": {},
   "outputs": [
    {
     "name": "stdout",
     "output_type": "stream",
     "text": [
      "count     1.886800e+04\n",
      "mean     5.299979e+145\n",
      "std      7.280095e+147\n",
      "min       0.000000e+00\n",
      "25%       5.000000e+04\n",
      "50%       1.000000e+05\n",
      "75%       3.048815e+05\n",
      "max      1.000000e+150\n",
      "Name: CompTotal, dtype: float64\n",
      "float64\n",
      "18464\n"
     ]
    }
   ],
   "source": [
    "print(df['CompTotal'].describe())\n",
    "print(df['CompTotal'].dtype)\n",
    "print(df['CompTotal'].isnull().sum())\n"
   ]
  },
  {
   "cell_type": "code",
   "execution_count": 17,
   "metadata": {},
   "outputs": [
    {
     "name": "stdout",
     "output_type": "stream",
     "text": [
      "Model: ConvertedCompYearly ≈ 0.5628 × CompTotal + 23389.60\n"
     ]
    }
   ],
   "source": [
    "from sklearn.linear_model import LinearRegression\n",
    "\n",
    "#Rerun LR from previous lab\n",
    "# Filter out rows where values are too low or extreme\n",
    "low = 1000\n",
    "high_comp_total = df['CompTotal'].quantile(0.75)\n",
    "high_comp_yearly = df['ConvertedCompYearly'].quantile(0.99)\n",
    "\n",
    "filtered_df = df[\n",
    "    (df['CompTotal'] >= low) &\n",
    "    (df['CompTotal'] <= high_comp_total) &\n",
    "    (df['ConvertedCompYearly'] >= low) &\n",
    "    (df['ConvertedCompYearly'] <= high_comp_yearly)\n",
    "]\n",
    "\n",
    "# Drop rows with any NaNs\n",
    "regression_df = filtered_df[['CompTotal', 'ConvertedCompYearly']].dropna()\n",
    "\n",
    "# Fit the model\n",
    "X = regression_df[['CompTotal']].values.reshape(-1, 1)\n",
    "y = regression_df['ConvertedCompYearly'].values.reshape(-1, 1)\n",
    "\n",
    "model = LinearRegression()\n",
    "model.fit(X, y)\n",
    "\n",
    "# Display the model\n",
    "print(f\"Model: ConvertedCompYearly ≈ {model.coef_[0][0]:.4f} × CompTotal + {model.intercept_[0]:.2f}\")\n"
   ]
  },
  {
   "cell_type": "code",
   "execution_count": 18,
   "metadata": {},
   "outputs": [
    {
     "name": "stdout",
     "output_type": "stream",
     "text": [
      "count     10174.000000\n",
      "mean      92058.795066\n",
      "std       65222.003865\n",
      "min        1000.000000\n",
      "25%       45000.000000\n",
      "50%       75000.000000\n",
      "75%      124000.000000\n",
      "max      304842.000000\n",
      "Name: CompTotal, dtype: float64\n",
      "float64\n",
      "0\n"
     ]
    }
   ],
   "source": [
    "print(filtered_df['CompTotal'].describe())\n",
    "print(filtered_df['CompTotal'].dtype)\n",
    "print(filtered_df['CompTotal'].isnull().sum())"
   ]
  },
  {
   "cell_type": "code",
   "execution_count": 19,
   "metadata": {},
   "outputs": [
    {
     "name": "stdout",
     "output_type": "stream",
     "text": [
      "Missing values in ConvertedCompYearly after fill: 18464\n"
     ]
    }
   ],
   "source": [
    "# Use your fitted model\n",
    "slope = model.coef_[0][0]\n",
    "intercept = model.intercept_[0]\n",
    "\n",
    "# Fill in ConvertedCompYearly where it's missing, but CompTotal is not\n",
    "df.loc[\n",
    "    df['ConvertedCompYearly'].isnull() & df['CompTotal'].notnull(),\n",
    "    'ConvertedCompYearly'\n",
    "] = df['CompTotal'] * slope + intercept\n",
    "\n",
    "print(\"Missing values in ConvertedCompYearly after fill:\", df['ConvertedCompYearly'].isnull().sum())\n"
   ]
  },
  {
   "cell_type": "markdown",
   "metadata": {},
   "source": [
    "### Handling Missing Values in `ConvertedCompYearly`\n",
    "\n",
    "To address missing values in the `ConvertedCompYearly` column:\n",
    "\n",
    "1. **Identified Extreme and Invalid Values**\n",
    "   The `CompTotal` and `ConvertedCompYearly` columns contained extreme outliers (e.g., `CompTotal` values on the order of $10^{150}$), which skewed regression results.\n",
    "\n",
    "2. **Filtered the Dataset for Reasonable Ranges**\n",
    "   A filtered DataFrame was created by keeping only rows where:\n",
    "\n",
    "   * `CompTotal` ≥ 1000 and ≤ the 75th percentile\n",
    "   * `ConvertedCompYearly` ≥ 1000 and ≤ the 75th percentile\n",
    "     This helped focus the model on realistic compensation values.\n",
    "\n",
    "3. **Re-fit the Linear Regression Model**\n",
    "   Using the filtered data, a linear regression model was fit to estimate `ConvertedCompYearly` from `CompTotal`:\n",
    "\n",
    "   $$\n",
    "   \\texttt{ConvertedCompYearly} \\approx 0.5063 \\times \\texttt{CompTotal} + 36054.56\n",
    "   $$\n",
    "\n",
    "4. **Imputed Missing Values**\n",
    "   Missing values in `ConvertedCompYearly` were filled using the regression model, **only where `CompTotal` was available**.\n"
   ]
  },
  {
   "cell_type": "markdown",
   "metadata": {},
   "source": [
    "<h5>5.3 Impute missing values in categorical columns (e.g., `RemoteWork`) with the most frequent value.</h5>\n"
   ]
  },
  {
   "cell_type": "code",
   "execution_count": 20,
   "metadata": {},
   "outputs": [
    {
     "name": "stdout",
     "output_type": "stream",
     "text": [
      "Missing values in RemoteWork after fill: 0\n"
     ]
    }
   ],
   "source": [
    "## Write your code here\n",
    "# Find the most frequent value in 'RemoteWork'\n",
    "most_common_value = df['RemoteWork'].mode()[0]\n",
    "\n",
    "# Fill missing values with that most frequent value\n",
    "df['RemoteWork'] = df['RemoteWork'].fillna(most_common_value)\n",
    "\n",
    "print(\"Missing values in RemoteWork after fill:\", df['RemoteWork'].isnull().sum())\n"
   ]
  },
  {
   "cell_type": "code",
   "execution_count": 21,
   "metadata": {},
   "outputs": [
    {
     "name": "stdout",
     "output_type": "stream",
     "text": [
      "AINextMuch less integrated    36540\n",
      "AINextLess integrated         35844\n",
      "AINextNo change               29976\n",
      "AINextMuch more integrated    28968\n",
      "EmbeddedAdmired               27279\n",
      "                              ...  \n",
      "DevType                        2490\n",
      "NEWSOSites                     2232\n",
      "YearsCode                      2197\n",
      "AISelect                       1980\n",
      "LearnCode                      1809\n",
      "Length: 94, dtype: int64\n"
     ]
    }
   ],
   "source": [
    "# Select categorical columns\n",
    "categorical_cols = df.select_dtypes(include=['object', 'category']).columns\n",
    "\n",
    "# Count and sort missing values\n",
    "missing_categorical = df[categorical_cols].isnull().sum()\n",
    "missing_categorical = missing_categorical[missing_categorical > 0].sort_values(ascending=False)\n",
    "\n",
    "# Display\n",
    "print(missing_categorical)\n"
   ]
  },
  {
   "cell_type": "code",
   "execution_count": 22,
   "metadata": {},
   "outputs": [
    {
     "name": "stdout",
     "output_type": "stream",
     "text": [
      "Check: 100.00%\n",
      "ICorPM: 85.18%\n",
      "SOAccount: 78.14%\n",
      "MainBranch: 72.28%\n",
      "AIThreat: 68.60%\n",
      "SurveyLength: 67.58%\n",
      "TBranch: 67.01%\n",
      "AISelect: 63.04%\n",
      "BuildvsBuy: 58.70%\n",
      "Frequency_1: 58.01%\n",
      "ProfessionalQuestion: 54.61%\n",
      "SOPartFreq: 52.14%\n",
      "SurveyEase: 51.97%\n",
      "Knowledge_5: 51.50%\n",
      "Frequency_3: 50.62%\n"
     ]
    }
   ],
   "source": [
    "# Step 1: Get categorical columns\n",
    "categorical_cols = df.select_dtypes(include=['object', 'category']).columns\n",
    "\n",
    "# Step 2: Create a dictionary to hold columns with dominant modes\n",
    "dominant_mode_cols = {}\n",
    "\n",
    "# Step 3: Check each column\n",
    "for col in categorical_cols:\n",
    "    non_null_count = df[col].notnull().sum()\n",
    "    if non_null_count == 0:\n",
    "        continue  # skip if all values are missing\n",
    "    top_freq = df[col].value_counts(dropna=True).iloc[0]\n",
    "    top_prop = top_freq / non_null_count\n",
    "    if top_prop >= 0.5:  # 50% or more\n",
    "        dominant_mode_cols[col] = top_prop\n",
    "\n",
    "# Step 4: Display sorted results\n",
    "dominant_mode_cols = dict(sorted(dominant_mode_cols.items(), key=lambda item: item[1], reverse=True))\n",
    "\n",
    "# Print results\n",
    "for col, prop in dominant_mode_cols.items():\n",
    "    print(f\"{col}: {prop:.2%}\")\n"
   ]
  },
  {
   "cell_type": "code",
   "execution_count": 23,
   "metadata": {},
   "outputs": [
    {
     "name": "stdout",
     "output_type": "stream",
     "text": [
      "['Apples']\n"
     ]
    }
   ],
   "source": [
    "# Check how many unique non-null values it has\n",
    "print(df['Check'].dropna().unique())\n"
   ]
  },
  {
   "cell_type": "code",
   "execution_count": 24,
   "metadata": {},
   "outputs": [],
   "source": [
    "df.drop('Check', axis=1, inplace=True)\n"
   ]
  },
  {
   "cell_type": "code",
   "execution_count": 25,
   "metadata": {},
   "outputs": [],
   "source": [
    "columns_to_impute = [\n",
    "    'ICorPM', 'MainBranch', 'SOAccount', 'SurveyLength', 'AIThreat', 'TBranch',\n",
    "    'AISelect', 'Frequency_1', 'ProfessionalQuestion', 'SurveyEase',\n",
    "    'SOPartFreq', 'Knowledge_5', 'Frequency_3', 'RemoteWork', 'NEWSOSites'\n",
    "]\n",
    "\n",
    "for col in columns_to_impute:\n",
    "    mode_val = df[col].mode()[0]\n",
    "    df[col] = df[col].fillna(mode_val)\n"
   ]
  },
  {
   "cell_type": "code",
   "execution_count": 26,
   "metadata": {},
   "outputs": [
    {
     "name": "stdout",
     "output_type": "stream",
     "text": [
      "ICorPM                  0\n",
      "MainBranch              0\n",
      "SOAccount               0\n",
      "SurveyLength            0\n",
      "AIThreat                0\n",
      "TBranch                 0\n",
      "AISelect                0\n",
      "Frequency_1             0\n",
      "ProfessionalQuestion    0\n",
      "SurveyEase              0\n",
      "SOPartFreq              0\n",
      "Knowledge_5             0\n",
      "Frequency_3             0\n",
      "RemoteWork              0\n",
      "NEWSOSites              0\n",
      "dtype: int64\n"
     ]
    }
   ],
   "source": [
    "# Check that missing values are filled\n",
    "print(df[columns_to_impute].isnull().sum())\n"
   ]
  },
  {
   "cell_type": "markdown",
   "metadata": {},
   "source": [
    "### 6. Feature Scaling and Transformation\n"
   ]
  },
  {
   "cell_type": "markdown",
   "metadata": {},
   "source": [
    "<h5>6.1 Apply Min-Max Scaling to normalize the `ConvertedCompYearly` column.</h5>\n"
   ]
  },
  {
   "cell_type": "code",
   "execution_count": 27,
   "metadata": {},
   "outputs": [
    {
     "name": "stdout",
     "output_type": "stream",
     "text": [
      "count     1.886800e+04\n",
      "mean      5.299979e-05\n",
      "std       7.280095e-03\n",
      "min       0.000000e+00\n",
      "25%      5.903568e-146\n",
      "50%      1.119729e-145\n",
      "75%      1.908521e-145\n",
      "max       1.000000e+00\n",
      "Name: ConvertedCompYearly_MinMax, dtype: float64\n"
     ]
    }
   ],
   "source": [
    "## Write your code here\n",
    "from sklearn.preprocessing import MinMaxScaler\n",
    "\n",
    "# Initialize the scaler\n",
    "scaler = MinMaxScaler()\n",
    "\n",
    "# Reshape and scale\n",
    "df['ConvertedCompYearly_MinMax'] = scaler.fit_transform(\n",
    "    df[['ConvertedCompYearly']]  # Note: double brackets to keep as DataFrame\n",
    ")\n",
    "\n",
    "print(df['ConvertedCompYearly_MinMax'].describe())\n"
   ]
  },
  {
   "cell_type": "markdown",
   "metadata": {},
   "source": [
    "<h5>6.2 Log-transform the ConvertedCompYearly column to reduce skewness.</h5>\n"
   ]
  },
  {
   "cell_type": "code",
   "execution_count": 28,
   "metadata": {},
   "outputs": [],
   "source": [
    "## Write your code here\n",
    "import numpy as np\n",
    "\n",
    "# Apply natural log transformation (add 1 to avoid log(0))\n",
    "df['ConvertedCompYearly_Log'] = np.log1p(df['ConvertedCompYearly'])\n"
   ]
  },
  {
   "cell_type": "code",
   "execution_count": 29,
   "metadata": {},
   "outputs": [],
   "source": [
    "# Filter for reasonable range before plotting (e.g., ≥ 1000 and ≤ 75th percentile)\n",
    "low = 1000\n",
    "high = df['ConvertedCompYearly'].quantile(0.99)\n",
    "\n",
    "plot_df = df[(df['ConvertedCompYearly'] >= low) & (df['ConvertedCompYearly'] <= high)].copy()\n",
    "\n",
    "# Apply log transform on the filtered set\n",
    "plot_df['ConvertedCompYearly_Log'] = np.log1p(plot_df['ConvertedCompYearly'])\n"
   ]
  },
  {
   "cell_type": "code",
   "execution_count": 30,
   "metadata": {},
   "outputs": [
    {
     "data": {
      "image/png": "[encoded data removed]",
      "text/plain": [
       "<Figure size 1200x500 with 2 Axes>"
      ]
     },
     "metadata": {},
     "output_type": "display_data"
    }
   ],
   "source": [
    "import matplotlib.pyplot as plt\n",
    "\n",
    "plt.figure(figsize=(12, 5))\n",
    "\n",
    "# Original\n",
    "plt.subplot(1, 2, 1)\n",
    "plot_df['ConvertedCompYearly'].hist(bins=50)\n",
    "plt.title('Filtered ConvertedCompYearly')\n",
    "\n",
    "# Log-transformed\n",
    "plt.subplot(1, 2, 2)\n",
    "plot_df['ConvertedCompYearly_Log'].hist(bins=50)\n",
    "plt.title('Log-Transformed ConvertedCompYearly')\n",
    "\n",
    "plt.tight_layout()\n",
    "plt.show()\n",
    "\n"
   ]
  },
  {
   "cell_type": "code",
   "execution_count": 31,
   "metadata": {},
   "outputs": [
    {
     "name": "stdout",
     "output_type": "stream",
     "text": [
      "Most common CompTotal: 100000.0\n",
      "Expected imputed ConvertedCompYearly: 86685\n",
      "Occurrences in ConvertedCompYearly: 0\n"
     ]
    }
   ],
   "source": [
    "# Get the mode (most common) CompTotal value\n",
    "comp_mode = df['CompTotal'].mode()[0]\n",
    "\n",
    "# Compute the corresponding imputed value from the regression model\n",
    "slope = 0.5063\n",
    "intercept = 36054.56\n",
    "imputed_value = round(slope * comp_mode + intercept)\n",
    "\n",
    "print(f\"Most common CompTotal: {comp_mode}\")\n",
    "print(f\"Expected imputed ConvertedCompYearly: {imputed_value}\")\n",
    "\n",
    "# Count how often this value appears\n",
    "occurrences = (df['ConvertedCompYearly'].round() == imputed_value).sum()\n",
    "print(\"Occurrences in ConvertedCompYearly:\", occurrences)\n",
    "\n"
   ]
  },
  {
   "cell_type": "markdown",
   "metadata": {},
   "source": [
    "### 7. Feature Engineering\n"
   ]
  },
  {
   "cell_type": "markdown",
   "metadata": {},
   "source": [
    "<h5>7.1 Create a new column `ExperienceLevel` based on the `YearsCodePro` column:</h5>\n"
   ]
  },
  {
   "cell_type": "code",
   "execution_count": 32,
   "metadata": {},
   "outputs": [],
   "source": [
    "## Write your code here\n",
    "def categorize_experience(years):\n",
    "    if pd.isna(years):\n",
    "        return 'Unknown'\n",
    "    elif years <= 2:\n",
    "        return 'Novice'\n",
    "    elif years <= 5:\n",
    "        return 'Intermediate'\n",
    "    elif years <= 10:\n",
    "        return 'Proficient'\n",
    "    else:\n",
    "        return 'Expert'\n",
    "\n",
    "df['YearsCodePro'] = pd.to_numeric(df['YearsCodePro'], errors='coerce')\n",
    "df['ExperienceLevel'] = df['YearsCodePro'].apply(categorize_experience)\n"
   ]
  },
  {
   "cell_type": "code",
   "execution_count": 33,
   "metadata": {},
   "outputs": [
    {
     "data": {
      "text/plain": [
       "<Axes: >"
      ]
     },
     "execution_count": 33,
     "metadata": {},
     "output_type": "execute_result"
    },
    {
     "data": {
      "image/png": "[encoded data removed]",
      "text/plain": [
       "<Figure size 640x480 with 1 Axes>"
      ]
     },
     "metadata": {},
     "output_type": "display_data"
    }
   ],
   "source": [
    "df['YearsCodePro'].hist(bins=30)\n"
   ]
  },
  {
   "cell_type": "code",
   "execution_count": 34,
   "metadata": {},
   "outputs": [],
   "source": [
    "def categorize_experience(years):\n",
    "    if pd.isna(years):\n",
    "        return 'Unknown'\n",
    "    elif years <= 3:\n",
    "        return 'Beginner'\n",
    "    elif years <= 6:\n",
    "        return 'Junior'\n",
    "    elif years <= 15:\n",
    "        return 'Intermediate'\n",
    "    else:\n",
    "        return 'Senior'\n",
    "\n",
    "df['YearsCodePro'] = pd.to_numeric(df['YearsCodePro'], errors='coerce')\n",
    "df['ExperienceLevel'] = df['YearsCodePro'].apply(categorize_experience)\n"
   ]
  },
  {
   "cell_type": "code",
   "execution_count": 35,
   "metadata": {},
   "outputs": [
    {
     "name": "stdout",
     "output_type": "stream",
     "text": [
      "ExperienceLevel\n",
      "Unknown         9290\n",
      "Intermediate    8873\n",
      "Senior          7298\n",
      "Beginner        6570\n",
      "Junior          5301\n",
      "Name: count, dtype: int64\n"
     ]
    }
   ],
   "source": [
    "# Frequency count\n",
    "experience_counts = df['ExperienceLevel'].value_counts()\n",
    "print(experience_counts)\n"
   ]
  },
  {
   "cell_type": "code",
   "execution_count": 36,
   "metadata": {},
   "outputs": [
    {
     "data": {
      "image/png": "[encoded data removed]",
      "text/plain": [
       "<Figure size 800x600 with 1 Axes>"
      ]
     },
     "metadata": {},
     "output_type": "display_data"
    }
   ],
   "source": [
    "import matplotlib.pyplot as plt\n",
    "\n",
    "# Define the desired order\n",
    "experience_order = ['Beginner', 'Junior', 'Intermediate', 'Senior', 'Unknown']\n",
    "\n",
    "# Get value counts and reorder\n",
    "experience_counts = df['ExperienceLevel'].value_counts().reindex(experience_order)\n",
    "\n",
    "# Plot the pie chart\n",
    "plt.figure(figsize=(8, 6))\n",
    "experience_counts.plot.pie(\n",
    "    autopct='%1.1f%%',\n",
    "    startangle=90,\n",
    "    counterclock=False\n",
    ")\n",
    "plt.title('Distribution of Experience Levels')\n",
    "plt.ylabel('')  # Hide y-axis label\n",
    "plt.show()\n"
   ]
  },
  {
   "cell_type": "markdown",
   "metadata": {},
   "source": [
    "### Feature Engineering: Creating `ExperienceLevel`\n",
    "\n",
    "To simplify and enhance analysis of professional coding experience, a new column `ExperienceLevel` was derived from `YearsCodePro` using manually defined bins based on observed breaks in the distribution:\n",
    "\n",
    "| `YearsCodePro` Range | Experience Level |\n",
    "| -------------------- | ---------------- |\n",
    "| 0–3 years            | Beginner         |\n",
    "| 4–6 years            | Junior           |\n",
    "| 7–15 years           | Intermediate     |\n",
    "| 16+ years            | Senior           |\n",
    "| Missing/invalid      | Unknown          |\n",
    "\n",
    "The resulting `ExperienceLevel` column was visualized with a pie chart, ordered logically from least to most experience, with `Unknown` last.\n"
   ]
  },
  {
   "cell_type": "markdown",
   "metadata": {},
   "source": [
    "### Summary\n"
   ]
  },
  {
   "cell_type": "markdown",
   "metadata": {},
   "source": [
    "In this lab, you:\n",
    "\n",
    "- Explored the dataset to identify inconsistencies and missing values.\n",
    "\n",
    "- Encoded categorical variables for analysis.\n",
    "\n",
    "- Handled missing values using imputation techniques.\n",
    "\n",
    "- Normalized and transformed numerical data to prepare it for analysis.\n",
    "\n",
    "- Engineered a new feature to enhance data interpretation.\n"
   ]
  },
  {
   "cell_type": "markdown",
   "metadata": {},
   "source": [
    "Copyright © IBM Corporation. All rights reserved.\n"
   ]
  }
 ],
 "metadata": {
  "kernelspec": {
   "display_name": "Python 3 (ipykernel)",
   "language": "python",
   "name": "python3"
  },
  "language_info": {
   "codemirror_mode": {
    "name": "ipython",
    "version": 3
   },
   "file_extension": ".py",
   "mimetype": "text/x-python",
   "name": "python",
   "nbconvert_exporter": "python",
   "pygments_lexer": "ipython3",
   "version": "3.12.8"
  },
  "prev_pub_hash": "1e8e234f19fd098e27b0518a87f18de690e1c51f1d3263d5690927d19971251e"
 },
 "nbformat": 4,
 "nbformat_minor": 4
}
