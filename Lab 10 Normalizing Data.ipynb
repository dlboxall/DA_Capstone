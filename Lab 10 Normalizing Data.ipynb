{
 "cells": [
  {
   "cell_type": "markdown",
   "metadata": {},
   "source": [
    "<p style=\"text-align:center\">\n",
    "    <a href=\"https://skills.network\" target=\"_blank\">\n",
    "    <img src=\"https://cf-courses-data.s3.us.cloud-object-storage.appdomain.cloud/assets/logos/SN_web_lightmode.png\" width=\"200\" alt=\"Skills Network Logo\"  />\n",
    "    </a>\n",
    "</p>\n"
   ]
  },
  {
   "cell_type": "markdown",
   "metadata": {},
   "source": [
    "# **Data Normalization Techniques**\n"
   ]
  },
  {
   "cell_type": "markdown",
   "metadata": {},
   "source": [
    "Estimated time needed: **30** minutes\n"
   ]
  },
  {
   "cell_type": "markdown",
   "metadata": {},
   "source": [
    "In this lab, you will focus on data normalization. This includes identifying compensation-related columns, applying normalization techniques, and visualizing the data distributions.\n"
   ]
  },
  {
   "cell_type": "markdown",
   "metadata": {},
   "source": [
    "## Objectives\n"
   ]
  },
  {
   "cell_type": "markdown",
   "metadata": {},
   "source": [
    "In this lab, you will perform the following:\n"
   ]
  },
  {
   "cell_type": "markdown",
   "metadata": {},
   "source": [
    "- Identify duplicate rows and remove them.\n",
    "\n",
    "- Check and handle missing values in key columns.\n",
    "\n",
    "- Identify and normalize compensation-related columns.\n",
    "\n",
    "- Visualize the effect of normalization techniques on data distributions.\n"
   ]
  },
  {
   "cell_type": "markdown",
   "metadata": {},
   "source": [
    "-----\n"
   ]
  },
  {
   "cell_type": "markdown",
   "metadata": {},
   "source": [
    "## Hands on Lab\n"
   ]
  },
  {
   "cell_type": "markdown",
   "metadata": {},
   "source": [
    "#### Step 1: Install and Import Libraries\n"
   ]
  },
  {
   "cell_type": "code",
   "execution_count": 1,
   "metadata": {},
   "outputs": [
    {
     "name": "stdout",
     "output_type": "stream",
     "text": [
      "Requirement already satisfied: pandas in /opt/conda/lib/python3.12/site-packages (2.2.3)\n",
      "Requirement already satisfied: numpy>=1.26.0 in /opt/conda/lib/python3.12/site-packages (from pandas) (2.2.5)\n",
      "Requirement already satisfied: python-dateutil>=2.8.2 in /opt/conda/lib/python3.12/site-packages (from pandas) (2.9.0.post0)\n",
      "Requirement already satisfied: pytz>=2020.1 in /opt/conda/lib/python3.12/site-packages (from pandas) (2024.2)\n",
      "Requirement already satisfied: tzdata>=2022.7 in /opt/conda/lib/python3.12/site-packages (from pandas) (2025.2)\n",
      "Requirement already satisfied: six>=1.5 in /opt/conda/lib/python3.12/site-packages (from python-dateutil>=2.8.2->pandas) (1.17.0)\n"
     ]
    }
   ],
   "source": [
    "!pip install pandas"
   ]
  },
  {
   "cell_type": "code",
   "execution_count": 2,
   "metadata": {},
   "outputs": [
    {
     "name": "stdout",
     "output_type": "stream",
     "text": [
      "Requirement already satisfied: matplotlib in /opt/conda/lib/python3.12/site-packages (3.10.3)\n",
      "Requirement already satisfied: contourpy>=1.0.1 in /opt/conda/lib/python3.12/site-packages (from matplotlib) (1.3.2)\n",
      "Requirement already satisfied: cycler>=0.10 in /opt/conda/lib/python3.12/site-packages (from matplotlib) (0.12.1)\n",
      "Requirement already satisfied: fonttools>=4.22.0 in /opt/conda/lib/python3.12/site-packages (from matplotlib) (4.58.0)\n",
      "Requirement already satisfied: kiwisolver>=1.3.1 in /opt/conda/lib/python3.12/site-packages (from matplotlib) (1.4.8)\n",
      "Requirement already satisfied: numpy>=1.23 in /opt/conda/lib/python3.12/site-packages (from matplotlib) (2.2.5)\n",
      "Requirement already satisfied: packaging>=20.0 in /opt/conda/lib/python3.12/site-packages (from matplotlib) (24.2)\n",
      "Requirement already satisfied: pillow>=8 in /opt/conda/lib/python3.12/site-packages (from matplotlib) (11.2.1)\n",
      "Requirement already satisfied: pyparsing>=2.3.1 in /opt/conda/lib/python3.12/site-packages (from matplotlib) (3.2.3)\n",
      "Requirement already satisfied: python-dateutil>=2.7 in /opt/conda/lib/python3.12/site-packages (from matplotlib) (2.9.0.post0)\n",
      "Requirement already satisfied: six>=1.5 in /opt/conda/lib/python3.12/site-packages (from python-dateutil>=2.7->matplotlib) (1.17.0)\n"
     ]
    }
   ],
   "source": [
    "!pip install matplotlib"
   ]
  },
  {
   "cell_type": "code",
   "execution_count": 3,
   "metadata": {},
   "outputs": [],
   "source": [
    "import pandas as pd\n",
    "import matplotlib.pyplot as plt"
   ]
  },
  {
   "cell_type": "markdown",
   "metadata": {},
   "source": [
    "### Step 2: Load the Dataset into a DataFrame\n"
   ]
  },
  {
   "cell_type": "markdown",
   "metadata": {},
   "source": [
    "We use the <code>pandas.read_csv()</code> function for reading CSV files. However, in this version of the lab, which operates on JupyterLite, the dataset needs to be downloaded to the interface using the provided code below.\n"
   ]
  },
  {
   "cell_type": "markdown",
   "metadata": {},
   "source": [
    "The functions below will download the dataset into your browser:\n"
   ]
  },
  {
   "cell_type": "code",
   "execution_count": 4,
   "metadata": {},
   "outputs": [
    {
     "name": "stdout",
     "output_type": "stream",
     "text": [
      "   ResponseId                      MainBranch                 Age  \\\n",
      "0           1  I am a developer by profession  Under 18 years old   \n",
      "1           2  I am a developer by profession     35-44 years old   \n",
      "2           3  I am a developer by profession     45-54 years old   \n",
      "3           4           I am learning to code     18-24 years old   \n",
      "4           5  I am a developer by profession     18-24 years old   \n",
      "\n",
      "            Employment RemoteWork   Check  \\\n",
      "0  Employed, full-time     Remote  Apples   \n",
      "1  Employed, full-time     Remote  Apples   \n",
      "2  Employed, full-time     Remote  Apples   \n",
      "3   Student, full-time        NaN  Apples   \n",
      "4   Student, full-time        NaN  Apples   \n",
      "\n",
      "                                    CodingActivities  \\\n",
      "0                                              Hobby   \n",
      "1  Hobby;Contribute to open-source projects;Other...   \n",
      "2  Hobby;Contribute to open-source projects;Other...   \n",
      "3                                                NaN   \n",
      "4                                                NaN   \n",
      "\n",
      "                                             EdLevel  \\\n",
      "0                          Primary/elementary school   \n",
      "1       Bachelor’s degree (B.A., B.S., B.Eng., etc.)   \n",
      "2    Master’s degree (M.A., M.S., M.Eng., MBA, etc.)   \n",
      "3  Some college/university study without earning ...   \n",
      "4  Secondary school (e.g. American high school, G...   \n",
      "\n",
      "                                           LearnCode  \\\n",
      "0                             Books / Physical media   \n",
      "1  Books / Physical media;Colleague;On the job tr...   \n",
      "2  Books / Physical media;Colleague;On the job tr...   \n",
      "3  Other online resources (e.g., videos, blogs, f...   \n",
      "4  Other online resources (e.g., videos, blogs, f...   \n",
      "\n",
      "                                     LearnCodeOnline  ... JobSatPoints_6  \\\n",
      "0                                                NaN  ...            NaN   \n",
      "1  Technical documentation;Blogs;Books;Written Tu...  ...            0.0   \n",
      "2  Technical documentation;Blogs;Books;Written Tu...  ...            NaN   \n",
      "3  Stack Overflow;How-to videos;Interactive tutorial  ...            NaN   \n",
      "4  Technical documentation;Blogs;Written Tutorial...  ...            NaN   \n",
      "\n",
      "  JobSatPoints_7 JobSatPoints_8 JobSatPoints_9 JobSatPoints_10  \\\n",
      "0            NaN            NaN            NaN             NaN   \n",
      "1            0.0            0.0            0.0             0.0   \n",
      "2            NaN            NaN            NaN             NaN   \n",
      "3            NaN            NaN            NaN             NaN   \n",
      "4            NaN            NaN            NaN             NaN   \n",
      "\n",
      "  JobSatPoints_11           SurveyLength SurveyEase ConvertedCompYearly JobSat  \n",
      "0             NaN                    NaN        NaN                 NaN    NaN  \n",
      "1             0.0                    NaN        NaN                 NaN    NaN  \n",
      "2             NaN  Appropriate in length       Easy                 NaN    NaN  \n",
      "3             NaN               Too long       Easy                 NaN    NaN  \n",
      "4             NaN              Too short       Easy                 NaN    NaN  \n",
      "\n",
      "[5 rows x 114 columns]\n"
     ]
    }
   ],
   "source": [
    "file_path = \"https://cf-courses-data.s3.us.cloud-object-storage.appdomain.cloud/n01PQ9pSmiRX6520flujwQ/survey-data.csv\"\n",
    "\n",
    "df = pd.read_csv(file_path)\n",
    "\n",
    "# Display the first few rows to check if data is loaded correctly\n",
    "print(df.head())\n"
   ]
  },
  {
   "cell_type": "code",
   "execution_count": 5,
   "metadata": {},
   "outputs": [],
   "source": [
    "#df = pd.read_csv(\"https://cf-courses-data.s3.us.cloud-object-storage.appdomain.cloud/n01PQ9pSmiRX6520flujwQ/survey-data.csv\")"
   ]
  },
  {
   "cell_type": "markdown",
   "metadata": {},
   "source": [
    "### Section 1: Handling Duplicates\n",
    "##### Task 1: Identify and remove duplicate rows.\n"
   ]
  },
  {
   "cell_type": "code",
   "execution_count": 6,
   "metadata": {},
   "outputs": [
    {
     "name": "stdout",
     "output_type": "stream",
     "text": [
      "Original dataset shape: (65437, 114)\n",
      "Number of duplicate rows based on subset columns: 4853\n"
     ]
    }
   ],
   "source": [
    "## Write your code here\n",
    "# 2. Display shape of original dataset\n",
    "print(\"Original dataset shape:\", df.shape)\n",
    "\n",
    "# 3. Define subset of columns to check for duplicates\n",
    "subset_cols = [\n",
    "    'MainBranch', 'Employment', 'RemoteWork', 'EdLevel',\n",
    "    'Age', 'CodingActivities', 'LearnCodeOnline',\n",
    "    'YearsCodePro', 'DevType'\n",
    "]\n",
    "\n",
    "# 4. Identify number of duplicate rows based on subset\n",
    "duplicates = df.duplicated(subset=subset_cols)\n",
    "num_duplicates = duplicates.sum()\n",
    "\n",
    "print(\"Number of duplicate rows based on subset columns:\", num_duplicates)"
   ]
  },
  {
   "cell_type": "code",
   "execution_count": 7,
   "metadata": {},
   "outputs": [
    {
     "name": "stdout",
     "output_type": "stream",
     "text": [
      "Cleaned dataset shape: (60584, 114)\n",
      "Remaining duplicates: 0\n"
     ]
    }
   ],
   "source": [
    "## Write your code here\n",
    "# 1. Remove duplicates based on subset columns\n",
    "df_cleaned = df.drop_duplicates(subset=subset_cols)\n",
    "\n",
    "# 2. Verify removal\n",
    "print(\"Cleaned dataset shape:\", df_cleaned.shape)\n",
    "\n",
    "# Confirm there are no remaining duplicates\n",
    "remaining_duplicates = df_cleaned.duplicated(subset=subset_cols).sum()\n",
    "print(\"Remaining duplicates:\", remaining_duplicates)"
   ]
  },
  {
   "cell_type": "markdown",
   "metadata": {},
   "source": [
    "### Section 2: Handling Missing Values\n",
    "##### Task 2: Identify missing values in `CodingActivities`.\n"
   ]
  },
  {
   "cell_type": "code",
   "execution_count": 8,
   "metadata": {},
   "outputs": [
    {
     "name": "stdout",
     "output_type": "stream",
     "text": [
      "Missing rows in 'CodingActivities': 10971\n"
     ]
    }
   ],
   "source": [
    "## Write your code here\n",
    "missing_coding = df['CodingActivities'].isnull().sum()\n",
    "print(f\"Missing rows in 'CodingActivities': {missing_coding}\")"
   ]
  },
  {
   "cell_type": "markdown",
   "metadata": {},
   "source": [
    "##### Task 3: Impute missing values in CodingActivities with forward-fill.\n"
   ]
  },
  {
   "cell_type": "code",
   "execution_count": 9,
   "metadata": {},
   "outputs": [
    {
     "name": "stderr",
     "output_type": "stream",
     "text": [
      "/tmp/ipykernel_895/1764148412.py:2: FutureWarning: A value is trying to be set on a copy of a DataFrame or Series through chained assignment using an inplace method.\n",
      "The behavior will change in pandas 3.0. This inplace method will never work because the intermediate object on which we are setting values always behaves as a copy.\n",
      "\n",
      "For example, when doing 'df[col].method(value, inplace=True)', try using 'df.method({col: value}, inplace=True)' or df[col] = df[col].method(value) instead, to perform the operation inplace on the original object.\n",
      "\n",
      "\n",
      "  df['CodingActivities'].fillna(method='ffill', inplace=True)\n",
      "/tmp/ipykernel_895/1764148412.py:2: FutureWarning: Series.fillna with 'method' is deprecated and will raise in a future version. Use obj.ffill() or obj.bfill() instead.\n",
      "  df['CodingActivities'].fillna(method='ffill', inplace=True)\n"
     ]
    }
   ],
   "source": [
    "## Write your code here\n",
    "df['CodingActivities'].fillna(method='ffill', inplace=True)\n"
   ]
  },
  {
   "cell_type": "code",
   "execution_count": 10,
   "metadata": {},
   "outputs": [
    {
     "name": "stdout",
     "output_type": "stream",
     "text": [
      "           CompTotal  ConvertedCompYearly\n",
      "count   3.297000e+04         2.302900e+04\n",
      "mean   3.033060e+145         8.613505e+04\n",
      "std    5.507323e+147         1.880111e+05\n",
      "min     0.000000e+00         1.000000e+00\n",
      "25%     6.000000e+04         3.264000e+04\n",
      "50%     1.100000e+05         6.500000e+04\n",
      "75%     2.500000e+05         1.079370e+05\n",
      "max    1.000000e+150         1.625660e+07\n"
     ]
    }
   ],
   "source": [
    "#Apply same method as in lab 9 to impute missing ConveertedCompYearly values from CompTotal\n",
    "# Select numeric compensation-related columns\n",
    "comp_columns = ['CompTotal', 'ConvertedCompYearly']\n",
    "\n",
    "# Show summary stats\n",
    "print(df_cleaned[comp_columns].describe())"
   ]
  },
  {
   "cell_type": "code",
   "execution_count": 11,
   "metadata": {},
   "outputs": [
    {
     "name": "stdout",
     "output_type": "stream",
     "text": [
      "                     Missing Count  Percent Missing\n",
      "CompTotal                    27614        45.579691\n",
      "ConvertedCompYearly          37555        61.988314\n"
     ]
    }
   ],
   "source": [
    "# Include percentage missing\n",
    "total_rows = len(df_cleaned)\n",
    "missing_info = df_cleaned[comp_columns].isnull().sum().to_frame(name='Missing Count')\n",
    "missing_info['Percent Missing'] = (missing_info['Missing Count'] / total_rows) * 100\n",
    "print(missing_info)"
   ]
  },
  {
   "cell_type": "code",
   "execution_count": 12,
   "metadata": {},
   "outputs": [
    {
     "name": "stdout",
     "output_type": "stream",
     "text": [
      "Missing values breakdown:\n",
      "Missing both CompTotal and ConvertedCompYearly: 27614\n",
      "Missing only CompTotal: 0\n",
      "Missing only ConvertedCompYearly: 9941\n"
     ]
    }
   ],
   "source": [
    "# Create boolean masks\n",
    "comp_total_missing = df_cleaned['CompTotal'].isnull()\n",
    "converted_missing = df_cleaned['ConvertedCompYearly'].isnull()\n",
    "\n",
    "# Count each category\n",
    "both_missing = (comp_total_missing & converted_missing).sum()\n",
    "only_comptotal_missing = (comp_total_missing & ~converted_missing).sum()\n",
    "only_converted_missing = (~comp_total_missing & converted_missing).sum()\n",
    "\n",
    "# Print results\n",
    "print(\"Missing values breakdown:\")\n",
    "print(f\"Missing both CompTotal and ConvertedCompYearly: {both_missing}\")\n",
    "print(f\"Missing only CompTotal: {only_comptotal_missing}\")\n",
    "print(f\"Missing only ConvertedCompYearly: {only_converted_missing}\")"
   ]
  },
  {
   "cell_type": "code",
   "execution_count": 13,
   "metadata": {},
   "outputs": [],
   "source": [
    "# Calculate 75th percentiles\n",
    "q3_comptotal = df_cleaned['CompTotal'].quantile(0.75)\n",
    "q3_converted = df_cleaned['ConvertedCompYearly'].quantile(0.75)\n",
    "\n",
    "# Filter to remove rows above Q3 in either column\n",
    "filtered_df = df_cleaned[\n",
    "    (df_cleaned['CompTotal'] <= q3_comptotal) &\n",
    "    (df_cleaned['ConvertedCompYearly'] <= q3_converted)\n",
    "]\n"
   ]
  },
  {
   "cell_type": "code",
   "execution_count": 14,
   "metadata": {},
   "outputs": [
    {
     "name": "stdout",
     "output_type": "stream",
     "text": [
      "Requirement already satisfied: scikit-learn in /opt/conda/lib/python3.12/site-packages (1.6.1)\n",
      "Requirement already satisfied: numpy>=1.19.5 in /opt/conda/lib/python3.12/site-packages (from scikit-learn) (2.2.5)\n",
      "Requirement already satisfied: scipy>=1.6.0 in /opt/conda/lib/python3.12/site-packages (from scikit-learn) (1.15.3)\n",
      "Requirement already satisfied: joblib>=1.2.0 in /opt/conda/lib/python3.12/site-packages (from scikit-learn) (1.5.0)\n",
      "Requirement already satisfied: threadpoolctl>=3.1.0 in /opt/conda/lib/python3.12/site-packages (from scikit-learn) (3.6.0)\n"
     ]
    }
   ],
   "source": [
    "!pip install scikit-learn"
   ]
  },
  {
   "cell_type": "code",
   "execution_count": 15,
   "metadata": {},
   "outputs": [
    {
     "name": "stdout",
     "output_type": "stream",
     "text": [
      "Model: ConvertedCompYearly ≈ 0.2738 × CompTotal + 34606.32\n"
     ]
    }
   ],
   "source": [
    "from sklearn.linear_model import LinearRegression\n",
    "import numpy as np\n",
    "\n",
    "# Drop any remaining rows with missing values\n",
    "regression_df = filtered_df[['CompTotal', 'ConvertedCompYearly']].dropna()\n",
    "\n",
    "# Reshape inputs for sklearn\n",
    "X = regression_df['CompTotal'].values.reshape(-1, 1)\n",
    "y = regression_df['ConvertedCompYearly'].values.reshape(-1, 1)\n",
    "\n",
    "# Fit the model\n",
    "model = LinearRegression()\n",
    "model.fit(X, y)\n",
    "\n",
    "# Output model coefficients\n",
    "print(f\"Model: ConvertedCompYearly ≈ {model.coef_[0][0]:.4f} × CompTotal + {model.intercept_[0]:.2f}\")"
   ]
  },
  {
   "cell_type": "code",
   "execution_count": 16,
   "metadata": {},
   "outputs": [
    {
     "name": "stdout",
     "output_type": "stream",
     "text": [
      "Filled 9941 missing ConvertedCompYearly values using regression.\n"
     ]
    }
   ],
   "source": [
    "## Write your code here\n",
    "# Identify rows with missing ConvertedCompYearly and valid CompTotal\n",
    "missing_mask = df_cleaned['ConvertedCompYearly'].isnull() & df_cleaned['CompTotal'].notnull()\n",
    "\n",
    "# Predict values using the linear model\n",
    "predicted_values = model.predict(df_cleaned.loc[missing_mask, 'CompTotal'].values.reshape(-1, 1))\n",
    "\n",
    "# Fill in the missing values\n",
    "df_cleaned.loc[missing_mask, 'ConvertedCompYearly'] = predicted_values.flatten()\n",
    "print(f\"Filled {missing_mask.sum()} missing ConvertedCompYearly values using regression.\")"
   ]
  },
  {
   "cell_type": "code",
   "execution_count": 18,
   "metadata": {},
   "outputs": [
    {
     "name": "stderr",
     "output_type": "stream",
     "text": [
      "/tmp/ipykernel_895/1126023959.py:3: SettingWithCopyWarning: \n",
      "A value is trying to be set on a copy of a slice from a DataFrame.\n",
      "Try using .loc[row_indexer,col_indexer] = value instead\n",
      "\n",
      "See the caveats in the documentation: https://pandas.pydata.org/pandas-docs/stable/user_guide/indexing.html#returning-a-view-versus-a-copy\n",
      "  df_cleaned['ConvertedCompYearly'] = df_cleaned['ConvertedCompYearly'].clip(upper=cap)\n"
     ]
    }
   ],
   "source": [
    "# Cap values at the 99th percentile\n",
    "cap = df_cleaned['ConvertedCompYearly'].quantile(0.99)\n",
    "df_cleaned['ConvertedCompYearly'] = df_cleaned['ConvertedCompYearly'].clip(upper=cap)"
   ]
  },
  {
   "cell_type": "code",
   "execution_count": 19,
   "metadata": {},
   "outputs": [
    {
     "name": "stdout",
     "output_type": "stream",
     "text": [
      "count     3.297000e+04\n",
      "mean     3.033060e+145\n",
      "std      5.507323e+147\n",
      "min       0.000000e+00\n",
      "25%       6.000000e+04\n",
      "50%       1.100000e+05\n",
      "75%       2.500000e+05\n",
      "max      1.000000e+150\n",
      "Name: CompTotal, dtype: float64\n",
      "\n",
      "count    3.297000e+04\n",
      "mean     1.160236e+05\n",
      "std      2.378099e+05\n",
      "min      1.000000e+00\n",
      "25%      4.296200e+04\n",
      "50%      6.476200e+04\n",
      "75%      1.074060e+05\n",
      "max      2.028369e+06\n",
      "Name: ConvertedCompYearly, dtype: float64\n"
     ]
    }
   ],
   "source": [
    "print(df_cleaned['CompTotal'].describe())\n",
    "print('')\n",
    "print(df_cleaned['ConvertedCompYearly'].describe())"
   ]
  },
  {
   "cell_type": "code",
   "execution_count": 20,
   "metadata": {},
   "outputs": [
    {
     "name": "stdout",
     "output_type": "stream",
     "text": [
      "                     Missing Count  Percent Missing\n",
      "CompTotal                    27614        45.579691\n",
      "ConvertedCompYearly          27614        45.579691\n"
     ]
    }
   ],
   "source": [
    "# Include percentage missing\n",
    "total_rows = len(df_cleaned)\n",
    "missing_info = df_cleaned[comp_columns].isnull().sum().to_frame(name='Missing Count')\n",
    "missing_info['Percent Missing'] = (missing_info['Missing Count'] / total_rows) * 100\n",
    "print(missing_info)"
   ]
  },
  {
   "cell_type": "code",
   "execution_count": 21,
   "metadata": {},
   "outputs": [],
   "source": [
    "#Drop remaining rows with missing compensation data\n",
    "df_cleaned = df_cleaned.dropna(subset=['ConvertedCompYearly', 'CompTotal'])\n"
   ]
  },
  {
   "cell_type": "code",
   "execution_count": 22,
   "metadata": {},
   "outputs": [
    {
     "name": "stdout",
     "output_type": "stream",
     "text": [
      "                     Missing Count  Percent Missing\n",
      "CompTotal                        0              0.0\n",
      "ConvertedCompYearly              0              0.0\n"
     ]
    }
   ],
   "source": [
    "# Include percentage missing\n",
    "total_rows = len(df_cleaned)\n",
    "missing_info = df_cleaned[comp_columns].isnull().sum().to_frame(name='Missing Count')\n",
    "missing_info['Percent Missing'] = (missing_info['Missing Count'] / total_rows) * 100\n",
    "print(missing_info)"
   ]
  },
  {
   "cell_type": "markdown",
   "metadata": {},
   "source": [
    "**Note**:  Before normalizing ConvertedCompYearly, ensure that any missing values (NaN) in this column are handled appropriately. You can choose to either drop the rows containing NaN or replace the missing values with a suitable statistic (e.g., median or mean).\n"
   ]
  },
  {
   "cell_type": "markdown",
   "metadata": {},
   "source": [
    "### Section 3: Normalizing Compensation Data\n",
    "##### Task 4: Identify compensation-related columns, such as ConvertedCompYearly.\n",
    "Normalization is commonly applied to compensation data to bring values within a comparable range. Here, you’ll identify ConvertedCompYearly or similar columns, which contain compensation information. This column will be used in the subsequent tasks for normalization.\n"
   ]
  },
  {
   "cell_type": "code",
   "execution_count": 23,
   "metadata": {},
   "outputs": [
    {
     "name": "stdout",
     "output_type": "stream",
     "text": [
      "count    3.297000e+04\n",
      "mean     1.160236e+05\n",
      "std      2.378099e+05\n",
      "min      1.000000e+00\n",
      "25%      4.296200e+04\n",
      "50%      6.476200e+04\n",
      "75%      1.074060e+05\n",
      "max      2.028369e+06\n",
      "Name: ConvertedCompYearly, dtype: float64\n"
     ]
    }
   ],
   "source": [
    "## Write your code here\n",
    "print(df_cleaned['ConvertedCompYearly'].describe())\n",
    "\n"
   ]
  },
  {
   "cell_type": "code",
   "execution_count": 24,
   "metadata": {},
   "outputs": [],
   "source": [
    "#Large stdev indicates outliers and min salary of $1/yr is unreasonable. Filter out entries below $1000/yr and above 99th percentile\n",
    "df_cleaned = df_cleaned[df_cleaned['ConvertedCompYearly'] >= 1000]\n",
    "upper_limit = df_cleaned['ConvertedCompYearly'].quantile(0.99)\n",
    "df_cleaned = df_cleaned[df_cleaned['ConvertedCompYearly'] <= upper_limit]\n"
   ]
  },
  {
   "cell_type": "code",
   "execution_count": 25,
   "metadata": {},
   "outputs": [
    {
     "name": "stdout",
     "output_type": "stream",
     "text": [
      "count    3.243300e+04\n",
      "mean     1.179387e+05\n",
      "std      2.393005e+05\n",
      "min      1.000000e+03\n",
      "25%      4.418870e+04\n",
      "50%      6.609128e+04\n",
      "75%      1.074060e+05\n",
      "max      2.028369e+06\n",
      "Name: ConvertedCompYearly, dtype: float64\n"
     ]
    }
   ],
   "source": [
    "print(df_cleaned['ConvertedCompYearly'].describe())\n"
   ]
  },
  {
   "cell_type": "code",
   "execution_count": 26,
   "metadata": {},
   "outputs": [
    {
     "name": "stdout",
     "output_type": "stream",
     "text": [
      "1st percentile: 2,061.28\n",
      "Number of values below 1st percentile: 325\n"
     ]
    }
   ],
   "source": [
    "# Calculate the 1st percentile\n",
    "lower_1pct = df_cleaned['ConvertedCompYearly'].quantile(0.01)\n",
    "\n",
    "# Count how many values are below that\n",
    "num_below_1pct = (df_cleaned['ConvertedCompYearly'] < lower_1pct).sum()\n",
    "\n",
    "print(f\"1st percentile: {lower_1pct:,.2f}\")\n",
    "print(f\"Number of values below 1st percentile: {num_below_1pct}\")\n"
   ]
  },
  {
   "cell_type": "markdown",
   "metadata": {},
   "source": [
    "##### Task 5: Normalize ConvertedCompYearly using Min-Max Scaling.\n",
    "Min-Max Scaling brings all values in a column to a 0-1 range, making it useful for comparing data across different scales. Here, you will apply Min-Max normalization to the ConvertedCompYearly column, creating a new column ConvertedCompYearly_MinMax with normalized values.\n"
   ]
  },
  {
   "cell_type": "code",
   "execution_count": 27,
   "metadata": {},
   "outputs": [],
   "source": [
    "## Write your code here\n",
    "from sklearn.preprocessing import MinMaxScaler\n",
    "\n",
    "scaler = MinMaxScaler()\n",
    "df_cleaned['ConvertedCompYearly_MinMax'] = scaler.fit_transform(df_cleaned[['ConvertedCompYearly']])\n"
   ]
  },
  {
   "cell_type": "markdown",
   "metadata": {},
   "source": [
    "##### Task 6: Apply Z-score Normalization to `ConvertedCompYearly`.\n",
    "\n",
    "Z-score normalization standardizes values by converting them to a distribution with a mean of 0 and a standard deviation of 1. This method is helpful for datasets with a Gaussian (normal) distribution. Here, you’ll calculate Z-scores for the ConvertedCompYearly column, saving the results in a new column ConvertedCompYearly_Zscore.\n"
   ]
  },
  {
   "cell_type": "code",
   "execution_count": 28,
   "metadata": {},
   "outputs": [],
   "source": [
    "## Write your code here\n",
    "from sklearn.preprocessing import StandardScaler\n",
    "\n",
    "scaler = StandardScaler()\n",
    "df_cleaned['ConvertedCompYearly_Zscore'] = scaler.fit_transform(df_cleaned[['ConvertedCompYearly']])\n"
   ]
  },
  {
   "cell_type": "markdown",
   "metadata": {},
   "source": [
    "### Section 4: Visualization of Normalized Data\n",
    "##### Task 7: Visualize the distribution of `ConvertedCompYearly`, `ConvertedCompYearly_Normalized`, and `ConvertedCompYearly_Zscore`\n",
    "\n",
    "Visualization helps you understand how normalization changes the data distribution. In this task, create histograms for the original ConvertedCompYearly, as well as its normalized versions (ConvertedCompYearly_MinMax and ConvertedCompYearly_Zscore). This will help you compare how each normalization technique affects the data range and distribution.\n"
   ]
  },
  {
   "cell_type": "code",
   "execution_count": 29,
   "metadata": {},
   "outputs": [
    {
     "data": {
      "image/png": "[encoded data removed]",
      "text/plain": [
       "<Figure size 1800x500 with 3 Axes>"
      ]
     },
     "metadata": {},
     "output_type": "display_data"
    }
   ],
   "source": [
    "## Write your code here\n",
    "import matplotlib.pyplot as plt\n",
    "\n",
    "# Set up the plot\n",
    "plt.figure(figsize=(18, 5))\n",
    "\n",
    "# Original\n",
    "plt.subplot(1, 3, 1)\n",
    "plt.hist(df_cleaned['ConvertedCompYearly'], bins=50, color='skyblue')\n",
    "plt.title('Original: ConvertedCompYearly')\n",
    "plt.xlabel('Salary')\n",
    "plt.ylabel('Count')\n",
    "\n",
    "# Min-Max Scaled\n",
    "plt.subplot(1, 3, 2)\n",
    "plt.hist(df_cleaned['ConvertedCompYearly_MinMax'], bins=50, color='lightgreen')\n",
    "plt.title('Min-Max Normalized')\n",
    "plt.xlabel('Normalized Salary (0–1)')\n",
    "plt.ylabel('Count')\n",
    "\n",
    "# Z-score Scaled\n",
    "plt.subplot(1, 3, 3)\n",
    "plt.hist(df_cleaned['ConvertedCompYearly_Zscore'], bins=50, color='salmon')\n",
    "plt.title('Z-score Normalized')\n",
    "plt.xlabel('Standardized Salary (Z-score)')\n",
    "plt.ylabel('Count')\n",
    "\n",
    "plt.tight_layout()\n",
    "plt.show()\n"
   ]
  },
  {
   "cell_type": "code",
   "execution_count": 30,
   "metadata": {},
   "outputs": [
    {
     "data": {
      "image/png": "[encoded data removed]",
      "text/plain": [
       "<Figure size 1800x500 with 3 Axes>"
      ]
     },
     "metadata": {},
     "output_type": "display_data"
    }
   ],
   "source": [
    "#Using log scale to better visualize the lower end salaries\n",
    "import matplotlib.pyplot as plt\n",
    "\n",
    "plt.figure(figsize=(18, 5))\n",
    "\n",
    "# Original\n",
    "plt.subplot(1, 3, 1)\n",
    "plt.hist(df_cleaned['ConvertedCompYearly'], bins=50, color='skyblue')\n",
    "plt.xscale('log')\n",
    "plt.title('Original (Log Scale)')\n",
    "plt.xlabel('Salary (log scale)')\n",
    "plt.ylabel('Count')\n",
    "\n",
    "# Min-Max\n",
    "plt.subplot(1, 3, 2)\n",
    "plt.hist(df_cleaned['ConvertedCompYearly_MinMax'], bins=50, color='lightgreen')\n",
    "plt.xscale('log')\n",
    "plt.title('Min-Max Normalized (Log Scale)')\n",
    "plt.xlabel('Normalized Salary (log scale)')\n",
    "plt.ylabel('Count')\n",
    "\n",
    "# Z-score\n",
    "plt.subplot(1, 3, 3)\n",
    "plt.hist(df_cleaned['ConvertedCompYearly_Zscore'], bins=50, color='salmon')\n",
    "plt.xscale('log')\n",
    "plt.title('Z-score Normalized (Log Scale)')\n",
    "plt.xlabel('Z-score (log scale)')\n",
    "plt.ylabel('Count')\n",
    "\n",
    "plt.tight_layout()\n",
    "plt.show()\n"
   ]
  },
  {
   "cell_type": "code",
   "execution_count": 31,
   "metadata": {},
   "outputs": [
    {
     "data": {
      "image/png": "[encoded data removed]",
      "text/plain": [
       "<Figure size 600x400 with 1 Axes>"
      ]
     },
     "metadata": {},
     "output_type": "display_data"
    }
   ],
   "source": [
    "import numpy as np\n",
    "import matplotlib.pyplot as plt\n",
    "\n",
    "# Apply log transformation (log1p handles zeros better: log(1 + x))\n",
    "df_cleaned['Log_ConvertedCompYearly'] = np.log1p(df_cleaned['ConvertedCompYearly'])\n",
    "\n",
    "# Plot the log-transformed version\n",
    "plt.figure(figsize=(6, 4))\n",
    "plt.hist(df_cleaned['Log_ConvertedCompYearly'], bins=50, color='mediumslateblue')\n",
    "plt.title('Log-Transformed ConvertedCompYearly')\n",
    "plt.xlabel('log(1 + Salary)')\n",
    "plt.ylabel('Count')\n",
    "plt.show()\n"
   ]
  },
  {
   "cell_type": "code",
   "execution_count": 32,
   "metadata": {},
   "outputs": [
    {
     "data": {
      "image/png": "[encoded data removed]",
      "text/plain": [
       "<Figure size 1800x500 with 3 Axes>"
      ]
     },
     "metadata": {},
     "output_type": "display_data"
    }
   ],
   "source": [
    "import numpy as np\n",
    "import matplotlib.pyplot as plt\n",
    "from sklearn.preprocessing import MinMaxScaler, StandardScaler\n",
    "\n",
    "# Step 1: Log-transform ConvertedCompYearly\n",
    "df_cleaned['Log_ConvertedCompYearly'] = np.log1p(df_cleaned['ConvertedCompYearly'])\n",
    "\n",
    "# Step 2: Normalize the log-transformed values\n",
    "\n",
    "# Min-Max\n",
    "minmax_scaler = MinMaxScaler()\n",
    "df_cleaned['Log_Comp_MinMax'] = minmax_scaler.fit_transform(df_cleaned[['Log_ConvertedCompYearly']])\n",
    "\n",
    "# Z-score\n",
    "zscore_scaler = StandardScaler()\n",
    "df_cleaned['Log_Comp_Zscore'] = zscore_scaler.fit_transform(df_cleaned[['Log_ConvertedCompYearly']])\n",
    "\n",
    "# Step 3: Plot all three distributions\n",
    "plt.figure(figsize=(18, 5))\n",
    "\n",
    "# Log-transformed\n",
    "plt.subplot(1, 3, 1)\n",
    "plt.hist(df_cleaned['Log_ConvertedCompYearly'], bins=50, color='mediumslateblue')\n",
    "plt.title('Log-Transformed Salary')\n",
    "plt.xlabel('log(1 + Salary)')\n",
    "plt.ylabel('Count')\n",
    "\n",
    "# Min-Max normalized\n",
    "plt.subplot(1, 3, 2)\n",
    "plt.hist(df_cleaned['Log_Comp_MinMax'], bins=50, color='mediumseagreen')\n",
    "plt.title('Min-Max on Log Salary')\n",
    "plt.xlabel('MinMax Normalized')\n",
    "plt.ylabel('Count')\n",
    "\n",
    "# Z-score normalized\n",
    "plt.subplot(1, 3, 3)\n",
    "plt.hist(df_cleaned['Log_Comp_Zscore'], bins=50, color='tomato')\n",
    "plt.title('Z-score on Log Salary')\n",
    "plt.xlabel('Z-score Normalized')\n",
    "plt.ylabel('Count')\n",
    "\n",
    "plt.tight_layout()\n",
    "plt.show()\n"
   ]
  },
  {
   "cell_type": "markdown",
   "metadata": {},
   "source": [
    "### Summary: Salary Normalization and Distribution Analysis\n",
    "\n",
    "In this section, we focused on understanding and preparing the `ConvertedCompYearly` (annual compensation) data for analysis by addressing its extreme skew and applying normalization techniques.\n",
    "\n",
    "#### Key Steps:\n",
    "\n",
    "1. **Initial Inspection**:\n",
    "   - The original `ConvertedCompYearly` column showed a strong right skew.\n",
    "   - A significant number of outliers and very low values were present, including a minimum salary of only \\$200.\n",
    "   - Descriptive statistics and histogram visualizations confirmed a highly imbalanced distribution.\n",
    "\n",
    "2. **Log Transformation**:\n",
    "   - To reduce skew and better approximate a normal distribution, we applied a log transformation using `log1p`:\n",
    "     ```python\n",
    "     df_cleaned['Log_ConvertedCompYearly'] = np.log1p(df_cleaned['ConvertedCompYearly'])\n",
    "     ```\n",
    "   - This effectively compressed the long tail of high salaries and spread out mid-range values.\n",
    "\n",
    "3. **Normalization Techniques**:\n",
    "   - **Min-Max Scaling** and **Z-score Normalization** were applied to the log-transformed data:\n",
    "     - Min-Max scaled values between 0 and 1.\n",
    "     - Z-score normalization centered the data around a mean of 0 with standard deviation of 1.\n",
    "\n",
    "4. **Visualization**:\n",
    "   - Histograms of the original log-transformed data and both normalized versions were plotted side-by-side.\n",
    "   - All three distributions retained the same bell-shaped form, indicating that normalization preserved the underlying distribution after log transformation.\n",
    "\n",
    "#### Insights:\n",
    "\n",
    "- The original salary data was heavily skewed and unsuitable for direct analysis or modeling.\n",
    "- Log transformation greatly improved the distribution, making it more symmetric and normal-like.\n",
    "- Normalization rescaled the data without altering its shape, which is critical for machine learning tasks that rely on scale (e.g., KNN, gradient descent, clustering).\n",
    "- A small spike remained at the far right, likely due to very high salary outliers, even after transformation.\n",
    "\n",
    "This preprocessing ensures that the `ConvertedCompYearly` variable is now suitable for downstream modeling and analysis.\n"
   ]
  },
  {
   "cell_type": "markdown",
   "metadata": {},
   "source": [
    "### Summary\n"
   ]
  },
  {
   "cell_type": "markdown",
   "metadata": {},
   "source": [
    "In this lab, you practiced essential normalization techniques, including:\n",
    "\n",
    "- Identifying and handling duplicate rows.\n",
    "\n",
    "- Checking for and imputing missing values.\n",
    "\n",
    "- Applying Min-Max scaling and Z-score normalization to compensation data.\n",
    "\n",
    "- Visualizing the impact of normalization on data distribution.\n"
   ]
  },
  {
   "cell_type": "markdown",
   "metadata": {},
   "source": [
    "Copyright © IBM Corporation. All rights reserved.\n"
   ]
  }
 ],
 "metadata": {
  "kernelspec": {
   "display_name": "Python 3 (ipykernel)",
   "language": "python",
   "name": "python3"
  },
  "language_info": {
   "codemirror_mode": {
    "name": "ipython",
    "version": 3
   },
   "file_extension": ".py",
   "mimetype": "text/x-python",
   "name": "python",
   "nbconvert_exporter": "python",
   "pygments_lexer": "ipython3",
   "version": "3.12.8"
  },
  "prev_pub_hash": "5b2314eae200c68d20ee3204d822e6fad4f5845945b4895f383c3007af43740d"
 },
 "nbformat": 4,
 "nbformat_minor": 4
}
